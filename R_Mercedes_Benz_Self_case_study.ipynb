{
 "cells": [
  {
   "cell_type": "markdown",
   "metadata": {
    "colab_type": "text",
    "id": "X9TttDBRphHz"
   },
   "source": [
    "# --------------------- Mercedes Benz Self Case Study --------------------- "
   ]
  },
  {
   "cell_type": "markdown",
   "metadata": {},
   "source": [
    "Source link: https://www.kaggle.com/c/mercedes-benz-greener-manufacturing"
   ]
  },
  {
   "cell_type": "code",
   "execution_count": 9,
   "metadata": {
    "colab": {},
    "colab_type": "code",
    "id": "Ko9H8-2TphH1"
   },
   "outputs": [],
   "source": [
    "from IPython.display import Image"
   ]
  },
  {
   "cell_type": "markdown",
   "metadata": {},
   "source": [
    "![title](daimler-mercedes_V02.JPEG)"
   ]
  },
  {
   "cell_type": "markdown",
   "metadata": {
    "colab": {},
    "colab_type": "code",
    "id": "vAILfuPbphH5"
   },
   "source": [
    "# Description\n",
    "\n",
    "Since the first automobile, the Benz Patent Motor Car in 1886, Mercedes-Benz has stood for important automotive innovations. These include, for example, the passenger safety cell with crumple zone, the airbag and intelligent assistance systems. Mercedes-Benz applies for nearly 2000 patents per year, making the brand the European leader among premium car makers. Daimler’s Mercedes-Benz cars are leaders in the premium car industry. With a huge selection of features and options, customers can choose the customized Mercedes-Benz of their dreams.___\n",
    "\n",
    "To ensure the safety and reliability of each and every unique car configuration before they hit the road, Daimler’s engineers have developed a robust testing system. But, optimizing the speed of their testing system for so many possible feature combinations is complex and time-consuming without a powerful algorithmic approach. As one of the world’s biggest manufacturers of premium cars, safety and efficiency are paramount on Daimler’s production lines.___\n",
    "\n",
    "In this competition, Daimler is challenging Kagglers to tackle the curse of dimensionality and reduce the time that cars spend on the test bench. Competitors will work with a dataset representing different permutations of Mercedes-Benz car features to predict the time it takes to pass testing. Winning algorithms will contribute to speedier testing, resulting in lower carbon dioxide emissions without reducing Daimler’s standards.___"
   ]
  },
  {
   "cell_type": "markdown",
   "metadata": {},
   "source": [
    "## Objective:\n",
    "\n",
    "##### We need to predict the time in seconds that car takes to pass the testing."
   ]
  },
  {
   "cell_type": "markdown",
   "metadata": {},
   "source": [
    "## Metric\n",
    "\n",
    "##### R^2 (Coefficient of determination):\n",
    "\n",
    "It is a statistic used in the context of statistical models whose main purpose is either the prediction of future outcomes or the testing of hypotheses, on the basis of other related information. It provides a measure of how well observed outcomes are replicated by the model, based on the proportion of total variation of outcomes explained by the model\n",
    "\n",
    "Source: https://en.wikipedia.org/wiki/Coefficient_of_determination"
   ]
  },
  {
   "cell_type": "markdown",
   "metadata": {},
   "source": [
    "## Type of Machine Learning Problem\n",
    "\n",
    " - ___This is a regression problem where we need to predict the time in seconds that the car takes to pass the testing.___\n",
    " - ___Independent variables contains few categorical features and few numerical features (binary features).___\n",
    " - ___Dependent variable is continuous numbers which denotes the time in seconds.___\n",
    " \n",
    "##### Our Objective is to predict the time in seconds of the testing set."
   ]
  },
  {
   "cell_type": "code",
   "execution_count": null,
   "metadata": {},
   "outputs": [],
   "source": []
  },
  {
   "cell_type": "markdown",
   "metadata": {
    "colab": {},
    "colab_type": "code",
    "id": "dRlcTbG-phH9"
   },
   "source": [
    "##### Importing necessary in-built libraries"
   ]
  },
  {
   "cell_type": "code",
   "execution_count": 4,
   "metadata": {
    "colab": {},
    "colab_type": "code",
    "id": "Eu07x50sphIC"
   },
   "outputs": [],
   "source": [
    "import numpy as np\n",
    "import pandas as pd\n",
    "import matplotlib.pyplot as plt\n",
    "%matplotlib inline\n",
    "import seaborn as sns\n",
    "\n",
    "import warnings\n",
    "warnings.filterwarnings('ignore')"
   ]
  },
  {
   "cell_type": "code",
   "execution_count": 726,
   "metadata": {
    "colab": {
     "base_uri": "https://localhost:8080/",
     "height": 34
    },
    "colab_type": "code",
    "executionInfo": {
     "elapsed": 3763,
     "status": "ok",
     "timestamp": 1567020391794,
     "user": {
      "displayName": "sandeep panchal",
      "photoUrl": "https://lh3.googleusercontent.com/a-/AAuE7mCDqp8ZcyRAywNG1QL_TT0dbqm_TRCL6CyGzR511w=s64",
      "userId": "16028125481769875260"
     },
     "user_tz": -330
    },
    "id": "puEe69rjyrWp",
    "outputId": "52b9c803-09fa-4a34-9853-bbf144fbe8f2"
   },
   "outputs": [
    {
     "name": "stdout",
     "output_type": "stream",
     "text": [
      "Drive already mounted at /content/drive; to attempt to forcibly remount, call drive.mount(\"/content/drive\", force_remount=True).\n"
     ]
    }
   ],
   "source": [
    "from google.colab import drive\n",
    "drive.mount('/content/drive')"
   ]
  },
  {
   "cell_type": "code",
   "execution_count": 6,
   "metadata": {},
   "outputs": [],
   "source": [
    "# df_tr = pd.read_csv('train.csv')"
   ]
  },
  {
   "cell_type": "code",
   "execution_count": 727,
   "metadata": {
    "colab": {
     "base_uri": "https://localhost:8080/",
     "height": 304
    },
    "colab_type": "code",
    "executionInfo": {
     "elapsed": 3737,
     "status": "ok",
     "timestamp": 1567020391796,
     "user": {
      "displayName": "sandeep panchal",
      "photoUrl": "https://lh3.googleusercontent.com/a-/AAuE7mCDqp8ZcyRAywNG1QL_TT0dbqm_TRCL6CyGzR511w=s64",
      "userId": "16028125481769875260"
     },
     "user_tz": -330
    },
    "id": "Bkt7OhNZphIF",
    "outputId": "221b1c4d-dda8-4ab4-80c9-0842a9c0631b"
   },
   "outputs": [
    {
     "name": "stdout",
     "output_type": "stream",
     "text": [
      "\n",
      "Importing dataset train.csv and displaying head of dataframe\n",
      "\n"
     ]
    },
    {
     "data": {
      "text/html": [
       "<div>\n",
       "<style scoped>\n",
       "    .dataframe tbody tr th:only-of-type {\n",
       "        vertical-align: middle;\n",
       "    }\n",
       "\n",
       "    .dataframe tbody tr th {\n",
       "        vertical-align: top;\n",
       "    }\n",
       "\n",
       "    .dataframe thead th {\n",
       "        text-align: right;\n",
       "    }\n",
       "</style>\n",
       "<table border=\"1\" class=\"dataframe\">\n",
       "  <thead>\n",
       "    <tr style=\"text-align: right;\">\n",
       "      <th></th>\n",
       "      <th>ID</th>\n",
       "      <th>y</th>\n",
       "      <th>X0</th>\n",
       "      <th>X1</th>\n",
       "      <th>X2</th>\n",
       "      <th>X3</th>\n",
       "      <th>X4</th>\n",
       "      <th>X5</th>\n",
       "      <th>X6</th>\n",
       "      <th>X8</th>\n",
       "      <th>X10</th>\n",
       "      <th>X11</th>\n",
       "      <th>X12</th>\n",
       "      <th>X13</th>\n",
       "      <th>X14</th>\n",
       "      <th>X15</th>\n",
       "      <th>X16</th>\n",
       "      <th>X17</th>\n",
       "      <th>X18</th>\n",
       "      <th>X19</th>\n",
       "      <th>X20</th>\n",
       "      <th>X21</th>\n",
       "      <th>X22</th>\n",
       "      <th>X23</th>\n",
       "      <th>X24</th>\n",
       "      <th>X26</th>\n",
       "      <th>X27</th>\n",
       "      <th>X28</th>\n",
       "      <th>X29</th>\n",
       "      <th>X30</th>\n",
       "      <th>X31</th>\n",
       "      <th>X32</th>\n",
       "      <th>X33</th>\n",
       "      <th>X34</th>\n",
       "      <th>X35</th>\n",
       "      <th>X36</th>\n",
       "      <th>X37</th>\n",
       "      <th>X38</th>\n",
       "      <th>X39</th>\n",
       "      <th>X40</th>\n",
       "      <th>...</th>\n",
       "      <th>X345</th>\n",
       "      <th>X346</th>\n",
       "      <th>X347</th>\n",
       "      <th>X348</th>\n",
       "      <th>X349</th>\n",
       "      <th>X350</th>\n",
       "      <th>X351</th>\n",
       "      <th>X352</th>\n",
       "      <th>X353</th>\n",
       "      <th>X354</th>\n",
       "      <th>X355</th>\n",
       "      <th>X356</th>\n",
       "      <th>X357</th>\n",
       "      <th>X358</th>\n",
       "      <th>X359</th>\n",
       "      <th>X360</th>\n",
       "      <th>X361</th>\n",
       "      <th>X362</th>\n",
       "      <th>X363</th>\n",
       "      <th>X364</th>\n",
       "      <th>X365</th>\n",
       "      <th>X366</th>\n",
       "      <th>X367</th>\n",
       "      <th>X368</th>\n",
       "      <th>X369</th>\n",
       "      <th>X370</th>\n",
       "      <th>X371</th>\n",
       "      <th>X372</th>\n",
       "      <th>X373</th>\n",
       "      <th>X374</th>\n",
       "      <th>X375</th>\n",
       "      <th>X376</th>\n",
       "      <th>X377</th>\n",
       "      <th>X378</th>\n",
       "      <th>X379</th>\n",
       "      <th>X380</th>\n",
       "      <th>X382</th>\n",
       "      <th>X383</th>\n",
       "      <th>X384</th>\n",
       "      <th>X385</th>\n",
       "    </tr>\n",
       "  </thead>\n",
       "  <tbody>\n",
       "    <tr>\n",
       "      <th>0</th>\n",
       "      <td>0</td>\n",
       "      <td>130.81</td>\n",
       "      <td>k</td>\n",
       "      <td>v</td>\n",
       "      <td>at</td>\n",
       "      <td>a</td>\n",
       "      <td>d</td>\n",
       "      <td>u</td>\n",
       "      <td>j</td>\n",
       "      <td>o</td>\n",
       "      <td>0</td>\n",
       "      <td>0</td>\n",
       "      <td>0</td>\n",
       "      <td>1</td>\n",
       "      <td>0</td>\n",
       "      <td>0</td>\n",
       "      <td>0</td>\n",
       "      <td>0</td>\n",
       "      <td>1</td>\n",
       "      <td>0</td>\n",
       "      <td>0</td>\n",
       "      <td>1</td>\n",
       "      <td>0</td>\n",
       "      <td>0</td>\n",
       "      <td>0</td>\n",
       "      <td>0</td>\n",
       "      <td>0</td>\n",
       "      <td>0</td>\n",
       "      <td>0</td>\n",
       "      <td>0</td>\n",
       "      <td>1</td>\n",
       "      <td>0</td>\n",
       "      <td>0</td>\n",
       "      <td>0</td>\n",
       "      <td>1</td>\n",
       "      <td>0</td>\n",
       "      <td>1</td>\n",
       "      <td>0</td>\n",
       "      <td>0</td>\n",
       "      <td>0</td>\n",
       "      <td>...</td>\n",
       "      <td>0</td>\n",
       "      <td>0</td>\n",
       "      <td>0</td>\n",
       "      <td>0</td>\n",
       "      <td>0</td>\n",
       "      <td>0</td>\n",
       "      <td>0</td>\n",
       "      <td>0</td>\n",
       "      <td>0</td>\n",
       "      <td>1</td>\n",
       "      <td>0</td>\n",
       "      <td>0</td>\n",
       "      <td>0</td>\n",
       "      <td>0</td>\n",
       "      <td>0</td>\n",
       "      <td>0</td>\n",
       "      <td>1</td>\n",
       "      <td>0</td>\n",
       "      <td>0</td>\n",
       "      <td>0</td>\n",
       "      <td>0</td>\n",
       "      <td>0</td>\n",
       "      <td>0</td>\n",
       "      <td>0</td>\n",
       "      <td>0</td>\n",
       "      <td>0</td>\n",
       "      <td>0</td>\n",
       "      <td>0</td>\n",
       "      <td>0</td>\n",
       "      <td>0</td>\n",
       "      <td>0</td>\n",
       "      <td>0</td>\n",
       "      <td>1</td>\n",
       "      <td>0</td>\n",
       "      <td>0</td>\n",
       "      <td>0</td>\n",
       "      <td>0</td>\n",
       "      <td>0</td>\n",
       "      <td>0</td>\n",
       "      <td>0</td>\n",
       "    </tr>\n",
       "    <tr>\n",
       "      <th>1</th>\n",
       "      <td>6</td>\n",
       "      <td>88.53</td>\n",
       "      <td>k</td>\n",
       "      <td>t</td>\n",
       "      <td>av</td>\n",
       "      <td>e</td>\n",
       "      <td>d</td>\n",
       "      <td>y</td>\n",
       "      <td>l</td>\n",
       "      <td>o</td>\n",
       "      <td>0</td>\n",
       "      <td>0</td>\n",
       "      <td>0</td>\n",
       "      <td>0</td>\n",
       "      <td>0</td>\n",
       "      <td>0</td>\n",
       "      <td>0</td>\n",
       "      <td>0</td>\n",
       "      <td>1</td>\n",
       "      <td>0</td>\n",
       "      <td>0</td>\n",
       "      <td>0</td>\n",
       "      <td>0</td>\n",
       "      <td>0</td>\n",
       "      <td>0</td>\n",
       "      <td>0</td>\n",
       "      <td>1</td>\n",
       "      <td>0</td>\n",
       "      <td>0</td>\n",
       "      <td>0</td>\n",
       "      <td>1</td>\n",
       "      <td>0</td>\n",
       "      <td>0</td>\n",
       "      <td>0</td>\n",
       "      <td>1</td>\n",
       "      <td>0</td>\n",
       "      <td>1</td>\n",
       "      <td>0</td>\n",
       "      <td>0</td>\n",
       "      <td>0</td>\n",
       "      <td>...</td>\n",
       "      <td>0</td>\n",
       "      <td>0</td>\n",
       "      <td>0</td>\n",
       "      <td>1</td>\n",
       "      <td>0</td>\n",
       "      <td>0</td>\n",
       "      <td>0</td>\n",
       "      <td>0</td>\n",
       "      <td>0</td>\n",
       "      <td>0</td>\n",
       "      <td>0</td>\n",
       "      <td>0</td>\n",
       "      <td>0</td>\n",
       "      <td>0</td>\n",
       "      <td>0</td>\n",
       "      <td>0</td>\n",
       "      <td>1</td>\n",
       "      <td>0</td>\n",
       "      <td>1</td>\n",
       "      <td>0</td>\n",
       "      <td>0</td>\n",
       "      <td>0</td>\n",
       "      <td>0</td>\n",
       "      <td>0</td>\n",
       "      <td>0</td>\n",
       "      <td>0</td>\n",
       "      <td>0</td>\n",
       "      <td>0</td>\n",
       "      <td>0</td>\n",
       "      <td>0</td>\n",
       "      <td>1</td>\n",
       "      <td>0</td>\n",
       "      <td>0</td>\n",
       "      <td>0</td>\n",
       "      <td>0</td>\n",
       "      <td>0</td>\n",
       "      <td>0</td>\n",
       "      <td>0</td>\n",
       "      <td>0</td>\n",
       "      <td>0</td>\n",
       "    </tr>\n",
       "    <tr>\n",
       "      <th>2</th>\n",
       "      <td>7</td>\n",
       "      <td>76.26</td>\n",
       "      <td>az</td>\n",
       "      <td>w</td>\n",
       "      <td>n</td>\n",
       "      <td>c</td>\n",
       "      <td>d</td>\n",
       "      <td>x</td>\n",
       "      <td>j</td>\n",
       "      <td>x</td>\n",
       "      <td>0</td>\n",
       "      <td>0</td>\n",
       "      <td>0</td>\n",
       "      <td>0</td>\n",
       "      <td>0</td>\n",
       "      <td>0</td>\n",
       "      <td>0</td>\n",
       "      <td>1</td>\n",
       "      <td>0</td>\n",
       "      <td>0</td>\n",
       "      <td>0</td>\n",
       "      <td>0</td>\n",
       "      <td>0</td>\n",
       "      <td>0</td>\n",
       "      <td>0</td>\n",
       "      <td>0</td>\n",
       "      <td>1</td>\n",
       "      <td>1</td>\n",
       "      <td>1</td>\n",
       "      <td>0</td>\n",
       "      <td>1</td>\n",
       "      <td>0</td>\n",
       "      <td>0</td>\n",
       "      <td>0</td>\n",
       "      <td>1</td>\n",
       "      <td>0</td>\n",
       "      <td>1</td>\n",
       "      <td>0</td>\n",
       "      <td>0</td>\n",
       "      <td>0</td>\n",
       "      <td>...</td>\n",
       "      <td>0</td>\n",
       "      <td>0</td>\n",
       "      <td>0</td>\n",
       "      <td>1</td>\n",
       "      <td>0</td>\n",
       "      <td>1</td>\n",
       "      <td>0</td>\n",
       "      <td>0</td>\n",
       "      <td>0</td>\n",
       "      <td>1</td>\n",
       "      <td>0</td>\n",
       "      <td>0</td>\n",
       "      <td>0</td>\n",
       "      <td>1</td>\n",
       "      <td>0</td>\n",
       "      <td>0</td>\n",
       "      <td>1</td>\n",
       "      <td>0</td>\n",
       "      <td>1</td>\n",
       "      <td>0</td>\n",
       "      <td>0</td>\n",
       "      <td>0</td>\n",
       "      <td>0</td>\n",
       "      <td>0</td>\n",
       "      <td>0</td>\n",
       "      <td>0</td>\n",
       "      <td>0</td>\n",
       "      <td>0</td>\n",
       "      <td>0</td>\n",
       "      <td>0</td>\n",
       "      <td>0</td>\n",
       "      <td>0</td>\n",
       "      <td>0</td>\n",
       "      <td>0</td>\n",
       "      <td>0</td>\n",
       "      <td>0</td>\n",
       "      <td>1</td>\n",
       "      <td>0</td>\n",
       "      <td>0</td>\n",
       "      <td>0</td>\n",
       "    </tr>\n",
       "    <tr>\n",
       "      <th>3</th>\n",
       "      <td>9</td>\n",
       "      <td>80.62</td>\n",
       "      <td>az</td>\n",
       "      <td>t</td>\n",
       "      <td>n</td>\n",
       "      <td>f</td>\n",
       "      <td>d</td>\n",
       "      <td>x</td>\n",
       "      <td>l</td>\n",
       "      <td>e</td>\n",
       "      <td>0</td>\n",
       "      <td>0</td>\n",
       "      <td>0</td>\n",
       "      <td>0</td>\n",
       "      <td>0</td>\n",
       "      <td>0</td>\n",
       "      <td>0</td>\n",
       "      <td>0</td>\n",
       "      <td>0</td>\n",
       "      <td>0</td>\n",
       "      <td>0</td>\n",
       "      <td>0</td>\n",
       "      <td>0</td>\n",
       "      <td>0</td>\n",
       "      <td>0</td>\n",
       "      <td>0</td>\n",
       "      <td>1</td>\n",
       "      <td>1</td>\n",
       "      <td>1</td>\n",
       "      <td>0</td>\n",
       "      <td>1</td>\n",
       "      <td>0</td>\n",
       "      <td>0</td>\n",
       "      <td>0</td>\n",
       "      <td>1</td>\n",
       "      <td>0</td>\n",
       "      <td>1</td>\n",
       "      <td>0</td>\n",
       "      <td>0</td>\n",
       "      <td>0</td>\n",
       "      <td>...</td>\n",
       "      <td>0</td>\n",
       "      <td>0</td>\n",
       "      <td>0</td>\n",
       "      <td>1</td>\n",
       "      <td>0</td>\n",
       "      <td>1</td>\n",
       "      <td>0</td>\n",
       "      <td>0</td>\n",
       "      <td>0</td>\n",
       "      <td>0</td>\n",
       "      <td>0</td>\n",
       "      <td>0</td>\n",
       "      <td>0</td>\n",
       "      <td>1</td>\n",
       "      <td>0</td>\n",
       "      <td>0</td>\n",
       "      <td>1</td>\n",
       "      <td>0</td>\n",
       "      <td>1</td>\n",
       "      <td>0</td>\n",
       "      <td>0</td>\n",
       "      <td>0</td>\n",
       "      <td>0</td>\n",
       "      <td>0</td>\n",
       "      <td>0</td>\n",
       "      <td>0</td>\n",
       "      <td>0</td>\n",
       "      <td>1</td>\n",
       "      <td>0</td>\n",
       "      <td>0</td>\n",
       "      <td>0</td>\n",
       "      <td>0</td>\n",
       "      <td>0</td>\n",
       "      <td>0</td>\n",
       "      <td>0</td>\n",
       "      <td>0</td>\n",
       "      <td>0</td>\n",
       "      <td>0</td>\n",
       "      <td>0</td>\n",
       "      <td>0</td>\n",
       "    </tr>\n",
       "    <tr>\n",
       "      <th>4</th>\n",
       "      <td>13</td>\n",
       "      <td>78.02</td>\n",
       "      <td>az</td>\n",
       "      <td>v</td>\n",
       "      <td>n</td>\n",
       "      <td>f</td>\n",
       "      <td>d</td>\n",
       "      <td>h</td>\n",
       "      <td>d</td>\n",
       "      <td>n</td>\n",
       "      <td>0</td>\n",
       "      <td>0</td>\n",
       "      <td>0</td>\n",
       "      <td>0</td>\n",
       "      <td>0</td>\n",
       "      <td>0</td>\n",
       "      <td>0</td>\n",
       "      <td>0</td>\n",
       "      <td>0</td>\n",
       "      <td>0</td>\n",
       "      <td>0</td>\n",
       "      <td>0</td>\n",
       "      <td>0</td>\n",
       "      <td>0</td>\n",
       "      <td>0</td>\n",
       "      <td>0</td>\n",
       "      <td>1</td>\n",
       "      <td>1</td>\n",
       "      <td>1</td>\n",
       "      <td>0</td>\n",
       "      <td>1</td>\n",
       "      <td>0</td>\n",
       "      <td>0</td>\n",
       "      <td>0</td>\n",
       "      <td>1</td>\n",
       "      <td>0</td>\n",
       "      <td>1</td>\n",
       "      <td>0</td>\n",
       "      <td>0</td>\n",
       "      <td>0</td>\n",
       "      <td>...</td>\n",
       "      <td>0</td>\n",
       "      <td>0</td>\n",
       "      <td>0</td>\n",
       "      <td>1</td>\n",
       "      <td>0</td>\n",
       "      <td>1</td>\n",
       "      <td>0</td>\n",
       "      <td>0</td>\n",
       "      <td>0</td>\n",
       "      <td>0</td>\n",
       "      <td>0</td>\n",
       "      <td>0</td>\n",
       "      <td>0</td>\n",
       "      <td>1</td>\n",
       "      <td>0</td>\n",
       "      <td>0</td>\n",
       "      <td>1</td>\n",
       "      <td>0</td>\n",
       "      <td>1</td>\n",
       "      <td>0</td>\n",
       "      <td>0</td>\n",
       "      <td>0</td>\n",
       "      <td>0</td>\n",
       "      <td>0</td>\n",
       "      <td>0</td>\n",
       "      <td>0</td>\n",
       "      <td>1</td>\n",
       "      <td>0</td>\n",
       "      <td>0</td>\n",
       "      <td>0</td>\n",
       "      <td>0</td>\n",
       "      <td>0</td>\n",
       "      <td>0</td>\n",
       "      <td>0</td>\n",
       "      <td>0</td>\n",
       "      <td>0</td>\n",
       "      <td>0</td>\n",
       "      <td>0</td>\n",
       "      <td>0</td>\n",
       "      <td>0</td>\n",
       "    </tr>\n",
       "  </tbody>\n",
       "</table>\n",
       "<p>5 rows × 378 columns</p>\n",
       "</div>"
      ],
      "text/plain": [
       "   ID       y  X0 X1  X2 X3 X4  ... X378 X379 X380  X382  X383  X384  X385\n",
       "0   0  130.81   k  v  at  a  d  ...    0    0    0     0     0     0     0\n",
       "1   6   88.53   k  t  av  e  d  ...    0    0    0     0     0     0     0\n",
       "2   7   76.26  az  w   n  c  d  ...    0    0    0     1     0     0     0\n",
       "3   9   80.62  az  t   n  f  d  ...    0    0    0     0     0     0     0\n",
       "4  13   78.02  az  v   n  f  d  ...    0    0    0     0     0     0     0\n",
       "\n",
       "[5 rows x 378 columns]"
      ]
     },
     "execution_count": 727,
     "metadata": {
      "tags": []
     },
     "output_type": "execute_result"
    }
   ],
   "source": [
    "# Importing dataset\n",
    "\n",
    "print(\"\\nImporting dataset train.csv and displaying head of dataframe\\n\")\n",
    "df_tr = pd.read_csv('drive/My Drive/Mercedes Benz/train.csv')\n",
    "df_tr.head()"
   ]
  },
  {
   "cell_type": "markdown",
   "metadata": {
    "colab_type": "text",
    "id": "b0-0vyZYphIL"
   },
   "source": [
    "#### Observation\n",
    "\n",
    " - ___Column 'y' is the dependent/target variable.___\n",
    " - ___Dependent/target variable has continuous values. This is a regression problem.___\n",
    " - ___There are 376 independed variables.___"
   ]
  },
  {
   "cell_type": "markdown",
   "metadata": {
    "colab_type": "text",
    "id": "LewG1AK7phIN"
   },
   "source": [
    "### Exploratory Data Analysis"
   ]
  },
  {
   "cell_type": "code",
   "execution_count": 728,
   "metadata": {
    "colab": {
     "base_uri": "https://localhost:8080/",
     "height": 238
    },
    "colab_type": "code",
    "executionInfo": {
     "elapsed": 3702,
     "status": "ok",
     "timestamp": 1567020391797,
     "user": {
      "displayName": "sandeep panchal",
      "photoUrl": "https://lh3.googleusercontent.com/a-/AAuE7mCDqp8ZcyRAywNG1QL_TT0dbqm_TRCL6CyGzR511w=s64",
      "userId": "16028125481769875260"
     },
     "user_tz": -330
    },
    "id": "kvw0y-TFphIO",
    "outputId": "e7d46f02-8876-49eb-a747-866300136753"
   },
   "outputs": [
    {
     "name": "stdout",
     "output_type": "stream",
     "text": [
      "\n",
      "-> Shape of train dataframe: (4209, 378) \n",
      "\n",
      "-> Number of rows in train dataframe: 4209 \n",
      "\n",
      "-> Number of columns in train dataframe: 378 \n",
      "\n",
      "-> Column names of dataframe\n",
      " Index(['ID', 'y', 'X0', 'X1', 'X2', 'X3', 'X4', 'X5', 'X6', 'X8',\n",
      "       ...\n",
      "       'X375', 'X376', 'X377', 'X378', 'X379', 'X380', 'X382', 'X383', 'X384',\n",
      "       'X385'],\n",
      "      dtype='object', length=378)\n"
     ]
    }
   ],
   "source": [
    "print()\n",
    "print(\"-> Shape of train dataframe:\", df_tr.shape, '\\n')\n",
    "print(\"-> Number of rows in train dataframe:\", df_tr.shape[0], '\\n')\n",
    "print(\"-> Number of columns in train dataframe:\", df_tr.shape[1], '\\n')\n",
    "print(\"-> Column names of dataframe\\n\", df_tr.columns)"
   ]
  },
  {
   "cell_type": "code",
   "execution_count": 729,
   "metadata": {
    "colab": {
     "base_uri": "https://localhost:8080/",
     "height": 346
    },
    "colab_type": "code",
    "executionInfo": {
     "elapsed": 5204,
     "status": "ok",
     "timestamp": 1567020393325,
     "user": {
      "displayName": "sandeep panchal",
      "photoUrl": "https://lh3.googleusercontent.com/a-/AAuE7mCDqp8ZcyRAywNG1QL_TT0dbqm_TRCL6CyGzR511w=s64",
      "userId": "16028125481769875260"
     },
     "user_tz": -330
    },
    "id": "JVLUZr6uphIS",
    "outputId": "21da2780-e8cd-4284-b2e2-5aef6cb8ca6d"
   },
   "outputs": [
    {
     "data": {
      "text/html": [
       "<div>\n",
       "<style scoped>\n",
       "    .dataframe tbody tr th:only-of-type {\n",
       "        vertical-align: middle;\n",
       "    }\n",
       "\n",
       "    .dataframe tbody tr th {\n",
       "        vertical-align: top;\n",
       "    }\n",
       "\n",
       "    .dataframe thead th {\n",
       "        text-align: right;\n",
       "    }\n",
       "</style>\n",
       "<table border=\"1\" class=\"dataframe\">\n",
       "  <thead>\n",
       "    <tr style=\"text-align: right;\">\n",
       "      <th></th>\n",
       "      <th>ID</th>\n",
       "      <th>y</th>\n",
       "      <th>X10</th>\n",
       "      <th>X11</th>\n",
       "      <th>X12</th>\n",
       "      <th>X13</th>\n",
       "      <th>X14</th>\n",
       "      <th>X15</th>\n",
       "      <th>X16</th>\n",
       "      <th>X17</th>\n",
       "      <th>X18</th>\n",
       "      <th>X19</th>\n",
       "      <th>X20</th>\n",
       "      <th>X21</th>\n",
       "      <th>X22</th>\n",
       "      <th>X23</th>\n",
       "      <th>X24</th>\n",
       "      <th>X26</th>\n",
       "      <th>X27</th>\n",
       "      <th>X28</th>\n",
       "      <th>X29</th>\n",
       "      <th>X30</th>\n",
       "      <th>X31</th>\n",
       "      <th>X32</th>\n",
       "      <th>X33</th>\n",
       "      <th>X34</th>\n",
       "      <th>X35</th>\n",
       "      <th>X36</th>\n",
       "      <th>X37</th>\n",
       "      <th>X38</th>\n",
       "      <th>X39</th>\n",
       "      <th>X40</th>\n",
       "      <th>X41</th>\n",
       "      <th>X42</th>\n",
       "      <th>X43</th>\n",
       "      <th>X44</th>\n",
       "      <th>X45</th>\n",
       "      <th>X46</th>\n",
       "      <th>X47</th>\n",
       "      <th>X48</th>\n",
       "      <th>...</th>\n",
       "      <th>X345</th>\n",
       "      <th>X346</th>\n",
       "      <th>X347</th>\n",
       "      <th>X348</th>\n",
       "      <th>X349</th>\n",
       "      <th>X350</th>\n",
       "      <th>X351</th>\n",
       "      <th>X352</th>\n",
       "      <th>X353</th>\n",
       "      <th>X354</th>\n",
       "      <th>X355</th>\n",
       "      <th>X356</th>\n",
       "      <th>X357</th>\n",
       "      <th>X358</th>\n",
       "      <th>X359</th>\n",
       "      <th>X360</th>\n",
       "      <th>X361</th>\n",
       "      <th>X362</th>\n",
       "      <th>X363</th>\n",
       "      <th>X364</th>\n",
       "      <th>X365</th>\n",
       "      <th>X366</th>\n",
       "      <th>X367</th>\n",
       "      <th>X368</th>\n",
       "      <th>X369</th>\n",
       "      <th>X370</th>\n",
       "      <th>X371</th>\n",
       "      <th>X372</th>\n",
       "      <th>X373</th>\n",
       "      <th>X374</th>\n",
       "      <th>X375</th>\n",
       "      <th>X376</th>\n",
       "      <th>X377</th>\n",
       "      <th>X378</th>\n",
       "      <th>X379</th>\n",
       "      <th>X380</th>\n",
       "      <th>X382</th>\n",
       "      <th>X383</th>\n",
       "      <th>X384</th>\n",
       "      <th>X385</th>\n",
       "    </tr>\n",
       "  </thead>\n",
       "  <tbody>\n",
       "    <tr>\n",
       "      <th>count</th>\n",
       "      <td>4209.000000</td>\n",
       "      <td>4209.000000</td>\n",
       "      <td>4209.000000</td>\n",
       "      <td>4209.0</td>\n",
       "      <td>4209.000000</td>\n",
       "      <td>4209.000000</td>\n",
       "      <td>4209.000000</td>\n",
       "      <td>4209.000000</td>\n",
       "      <td>4209.000000</td>\n",
       "      <td>4209.000000</td>\n",
       "      <td>4209.000000</td>\n",
       "      <td>4209.000000</td>\n",
       "      <td>4209.000000</td>\n",
       "      <td>4209.000000</td>\n",
       "      <td>4209.000000</td>\n",
       "      <td>4209.000000</td>\n",
       "      <td>4209.000000</td>\n",
       "      <td>4209.000000</td>\n",
       "      <td>4209.000000</td>\n",
       "      <td>4209.000000</td>\n",
       "      <td>4209.000000</td>\n",
       "      <td>4209.000000</td>\n",
       "      <td>4209.000000</td>\n",
       "      <td>4209.000000</td>\n",
       "      <td>4209.000000</td>\n",
       "      <td>4209.000000</td>\n",
       "      <td>4209.000000</td>\n",
       "      <td>4209.000000</td>\n",
       "      <td>4209.000000</td>\n",
       "      <td>4209.000000</td>\n",
       "      <td>4209.000000</td>\n",
       "      <td>4209.000000</td>\n",
       "      <td>4209.000000</td>\n",
       "      <td>4209.000000</td>\n",
       "      <td>4209.000000</td>\n",
       "      <td>4209.000000</td>\n",
       "      <td>4209.000000</td>\n",
       "      <td>4209.000000</td>\n",
       "      <td>4209.000000</td>\n",
       "      <td>4209.000000</td>\n",
       "      <td>...</td>\n",
       "      <td>4209.000000</td>\n",
       "      <td>4209.000000</td>\n",
       "      <td>4209.0</td>\n",
       "      <td>4209.000000</td>\n",
       "      <td>4209.000000</td>\n",
       "      <td>4209.000000</td>\n",
       "      <td>4209.000000</td>\n",
       "      <td>4209.000000</td>\n",
       "      <td>4209.000000</td>\n",
       "      <td>4209.000000</td>\n",
       "      <td>4209.000000</td>\n",
       "      <td>4209.000000</td>\n",
       "      <td>4209.000000</td>\n",
       "      <td>4209.000000</td>\n",
       "      <td>4209.000000</td>\n",
       "      <td>4209.000000</td>\n",
       "      <td>4209.000000</td>\n",
       "      <td>4209.000000</td>\n",
       "      <td>4209.000000</td>\n",
       "      <td>4209.000000</td>\n",
       "      <td>4209.000000</td>\n",
       "      <td>4209.000000</td>\n",
       "      <td>4209.000000</td>\n",
       "      <td>4209.000000</td>\n",
       "      <td>4209.000000</td>\n",
       "      <td>4209.000000</td>\n",
       "      <td>4209.000000</td>\n",
       "      <td>4209.000000</td>\n",
       "      <td>4209.000000</td>\n",
       "      <td>4209.000000</td>\n",
       "      <td>4209.000000</td>\n",
       "      <td>4209.000000</td>\n",
       "      <td>4209.000000</td>\n",
       "      <td>4209.000000</td>\n",
       "      <td>4209.000000</td>\n",
       "      <td>4209.000000</td>\n",
       "      <td>4209.000000</td>\n",
       "      <td>4209.000000</td>\n",
       "      <td>4209.000000</td>\n",
       "      <td>4209.000000</td>\n",
       "    </tr>\n",
       "    <tr>\n",
       "      <th>mean</th>\n",
       "      <td>4205.960798</td>\n",
       "      <td>100.669318</td>\n",
       "      <td>0.013305</td>\n",
       "      <td>0.0</td>\n",
       "      <td>0.075077</td>\n",
       "      <td>0.057971</td>\n",
       "      <td>0.428130</td>\n",
       "      <td>0.000475</td>\n",
       "      <td>0.002613</td>\n",
       "      <td>0.007603</td>\n",
       "      <td>0.007840</td>\n",
       "      <td>0.099549</td>\n",
       "      <td>0.142789</td>\n",
       "      <td>0.002613</td>\n",
       "      <td>0.086957</td>\n",
       "      <td>0.020670</td>\n",
       "      <td>0.001901</td>\n",
       "      <td>0.004989</td>\n",
       "      <td>0.682585</td>\n",
       "      <td>0.032549</td>\n",
       "      <td>0.043003</td>\n",
       "      <td>0.004514</td>\n",
       "      <td>0.232359</td>\n",
       "      <td>0.011167</td>\n",
       "      <td>0.000238</td>\n",
       "      <td>0.005464</td>\n",
       "      <td>0.232359</td>\n",
       "      <td>0.004514</td>\n",
       "      <td>0.232359</td>\n",
       "      <td>0.033262</td>\n",
       "      <td>0.000238</td>\n",
       "      <td>0.000713</td>\n",
       "      <td>0.011404</td>\n",
       "      <td>0.000238</td>\n",
       "      <td>0.072226</td>\n",
       "      <td>0.011404</td>\n",
       "      <td>0.253267</td>\n",
       "      <td>0.597292</td>\n",
       "      <td>0.012830</td>\n",
       "      <td>0.022333</td>\n",
       "      <td>...</td>\n",
       "      <td>0.022333</td>\n",
       "      <td>0.047517</td>\n",
       "      <td>0.0</td>\n",
       "      <td>0.947256</td>\n",
       "      <td>0.044904</td>\n",
       "      <td>0.338798</td>\n",
       "      <td>0.297220</td>\n",
       "      <td>0.054170</td>\n",
       "      <td>0.002138</td>\n",
       "      <td>0.202899</td>\n",
       "      <td>0.380375</td>\n",
       "      <td>0.179853</td>\n",
       "      <td>0.001188</td>\n",
       "      <td>0.426942</td>\n",
       "      <td>0.031837</td>\n",
       "      <td>0.076503</td>\n",
       "      <td>0.966025</td>\n",
       "      <td>0.520314</td>\n",
       "      <td>0.753861</td>\n",
       "      <td>0.002851</td>\n",
       "      <td>0.002851</td>\n",
       "      <td>0.001188</td>\n",
       "      <td>0.051794</td>\n",
       "      <td>0.062723</td>\n",
       "      <td>0.000475</td>\n",
       "      <td>0.006652</td>\n",
       "      <td>0.014255</td>\n",
       "      <td>0.000475</td>\n",
       "      <td>0.019244</td>\n",
       "      <td>0.227370</td>\n",
       "      <td>0.318841</td>\n",
       "      <td>0.057258</td>\n",
       "      <td>0.314802</td>\n",
       "      <td>0.020670</td>\n",
       "      <td>0.009503</td>\n",
       "      <td>0.008078</td>\n",
       "      <td>0.007603</td>\n",
       "      <td>0.001663</td>\n",
       "      <td>0.000475</td>\n",
       "      <td>0.001426</td>\n",
       "    </tr>\n",
       "    <tr>\n",
       "      <th>std</th>\n",
       "      <td>2437.608688</td>\n",
       "      <td>12.679381</td>\n",
       "      <td>0.114590</td>\n",
       "      <td>0.0</td>\n",
       "      <td>0.263547</td>\n",
       "      <td>0.233716</td>\n",
       "      <td>0.494867</td>\n",
       "      <td>0.021796</td>\n",
       "      <td>0.051061</td>\n",
       "      <td>0.086872</td>\n",
       "      <td>0.088208</td>\n",
       "      <td>0.299433</td>\n",
       "      <td>0.349899</td>\n",
       "      <td>0.051061</td>\n",
       "      <td>0.281805</td>\n",
       "      <td>0.142294</td>\n",
       "      <td>0.043561</td>\n",
       "      <td>0.070467</td>\n",
       "      <td>0.465526</td>\n",
       "      <td>0.177475</td>\n",
       "      <td>0.202888</td>\n",
       "      <td>0.067043</td>\n",
       "      <td>0.422387</td>\n",
       "      <td>0.105093</td>\n",
       "      <td>0.015414</td>\n",
       "      <td>0.073729</td>\n",
       "      <td>0.422387</td>\n",
       "      <td>0.067043</td>\n",
       "      <td>0.422387</td>\n",
       "      <td>0.179341</td>\n",
       "      <td>0.015414</td>\n",
       "      <td>0.026691</td>\n",
       "      <td>0.106192</td>\n",
       "      <td>0.015414</td>\n",
       "      <td>0.258893</td>\n",
       "      <td>0.106192</td>\n",
       "      <td>0.434934</td>\n",
       "      <td>0.490501</td>\n",
       "      <td>0.112552</td>\n",
       "      <td>0.147782</td>\n",
       "      <td>...</td>\n",
       "      <td>0.147782</td>\n",
       "      <td>0.212768</td>\n",
       "      <td>0.0</td>\n",
       "      <td>0.223549</td>\n",
       "      <td>0.207117</td>\n",
       "      <td>0.473357</td>\n",
       "      <td>0.457089</td>\n",
       "      <td>0.226379</td>\n",
       "      <td>0.046198</td>\n",
       "      <td>0.402205</td>\n",
       "      <td>0.485537</td>\n",
       "      <td>0.384110</td>\n",
       "      <td>0.034450</td>\n",
       "      <td>0.494693</td>\n",
       "      <td>0.175586</td>\n",
       "      <td>0.265832</td>\n",
       "      <td>0.181186</td>\n",
       "      <td>0.499647</td>\n",
       "      <td>0.430812</td>\n",
       "      <td>0.053325</td>\n",
       "      <td>0.053325</td>\n",
       "      <td>0.034450</td>\n",
       "      <td>0.221637</td>\n",
       "      <td>0.242492</td>\n",
       "      <td>0.021796</td>\n",
       "      <td>0.081300</td>\n",
       "      <td>0.118555</td>\n",
       "      <td>0.021796</td>\n",
       "      <td>0.137399</td>\n",
       "      <td>0.419183</td>\n",
       "      <td>0.466082</td>\n",
       "      <td>0.232363</td>\n",
       "      <td>0.464492</td>\n",
       "      <td>0.142294</td>\n",
       "      <td>0.097033</td>\n",
       "      <td>0.089524</td>\n",
       "      <td>0.086872</td>\n",
       "      <td>0.040752</td>\n",
       "      <td>0.021796</td>\n",
       "      <td>0.037734</td>\n",
       "    </tr>\n",
       "    <tr>\n",
       "      <th>min</th>\n",
       "      <td>0.000000</td>\n",
       "      <td>72.110000</td>\n",
       "      <td>0.000000</td>\n",
       "      <td>0.0</td>\n",
       "      <td>0.000000</td>\n",
       "      <td>0.000000</td>\n",
       "      <td>0.000000</td>\n",
       "      <td>0.000000</td>\n",
       "      <td>0.000000</td>\n",
       "      <td>0.000000</td>\n",
       "      <td>0.000000</td>\n",
       "      <td>0.000000</td>\n",
       "      <td>0.000000</td>\n",
       "      <td>0.000000</td>\n",
       "      <td>0.000000</td>\n",
       "      <td>0.000000</td>\n",
       "      <td>0.000000</td>\n",
       "      <td>0.000000</td>\n",
       "      <td>0.000000</td>\n",
       "      <td>0.000000</td>\n",
       "      <td>0.000000</td>\n",
       "      <td>0.000000</td>\n",
       "      <td>0.000000</td>\n",
       "      <td>0.000000</td>\n",
       "      <td>0.000000</td>\n",
       "      <td>0.000000</td>\n",
       "      <td>0.000000</td>\n",
       "      <td>0.000000</td>\n",
       "      <td>0.000000</td>\n",
       "      <td>0.000000</td>\n",
       "      <td>0.000000</td>\n",
       "      <td>0.000000</td>\n",
       "      <td>0.000000</td>\n",
       "      <td>0.000000</td>\n",
       "      <td>0.000000</td>\n",
       "      <td>0.000000</td>\n",
       "      <td>0.000000</td>\n",
       "      <td>0.000000</td>\n",
       "      <td>0.000000</td>\n",
       "      <td>0.000000</td>\n",
       "      <td>...</td>\n",
       "      <td>0.000000</td>\n",
       "      <td>0.000000</td>\n",
       "      <td>0.0</td>\n",
       "      <td>0.000000</td>\n",
       "      <td>0.000000</td>\n",
       "      <td>0.000000</td>\n",
       "      <td>0.000000</td>\n",
       "      <td>0.000000</td>\n",
       "      <td>0.000000</td>\n",
       "      <td>0.000000</td>\n",
       "      <td>0.000000</td>\n",
       "      <td>0.000000</td>\n",
       "      <td>0.000000</td>\n",
       "      <td>0.000000</td>\n",
       "      <td>0.000000</td>\n",
       "      <td>0.000000</td>\n",
       "      <td>0.000000</td>\n",
       "      <td>0.000000</td>\n",
       "      <td>0.000000</td>\n",
       "      <td>0.000000</td>\n",
       "      <td>0.000000</td>\n",
       "      <td>0.000000</td>\n",
       "      <td>0.000000</td>\n",
       "      <td>0.000000</td>\n",
       "      <td>0.000000</td>\n",
       "      <td>0.000000</td>\n",
       "      <td>0.000000</td>\n",
       "      <td>0.000000</td>\n",
       "      <td>0.000000</td>\n",
       "      <td>0.000000</td>\n",
       "      <td>0.000000</td>\n",
       "      <td>0.000000</td>\n",
       "      <td>0.000000</td>\n",
       "      <td>0.000000</td>\n",
       "      <td>0.000000</td>\n",
       "      <td>0.000000</td>\n",
       "      <td>0.000000</td>\n",
       "      <td>0.000000</td>\n",
       "      <td>0.000000</td>\n",
       "      <td>0.000000</td>\n",
       "    </tr>\n",
       "    <tr>\n",
       "      <th>25%</th>\n",
       "      <td>2095.000000</td>\n",
       "      <td>90.820000</td>\n",
       "      <td>0.000000</td>\n",
       "      <td>0.0</td>\n",
       "      <td>0.000000</td>\n",
       "      <td>0.000000</td>\n",
       "      <td>0.000000</td>\n",
       "      <td>0.000000</td>\n",
       "      <td>0.000000</td>\n",
       "      <td>0.000000</td>\n",
       "      <td>0.000000</td>\n",
       "      <td>0.000000</td>\n",
       "      <td>0.000000</td>\n",
       "      <td>0.000000</td>\n",
       "      <td>0.000000</td>\n",
       "      <td>0.000000</td>\n",
       "      <td>0.000000</td>\n",
       "      <td>0.000000</td>\n",
       "      <td>0.000000</td>\n",
       "      <td>0.000000</td>\n",
       "      <td>0.000000</td>\n",
       "      <td>0.000000</td>\n",
       "      <td>0.000000</td>\n",
       "      <td>0.000000</td>\n",
       "      <td>0.000000</td>\n",
       "      <td>0.000000</td>\n",
       "      <td>0.000000</td>\n",
       "      <td>0.000000</td>\n",
       "      <td>0.000000</td>\n",
       "      <td>0.000000</td>\n",
       "      <td>0.000000</td>\n",
       "      <td>0.000000</td>\n",
       "      <td>0.000000</td>\n",
       "      <td>0.000000</td>\n",
       "      <td>0.000000</td>\n",
       "      <td>0.000000</td>\n",
       "      <td>0.000000</td>\n",
       "      <td>0.000000</td>\n",
       "      <td>0.000000</td>\n",
       "      <td>0.000000</td>\n",
       "      <td>...</td>\n",
       "      <td>0.000000</td>\n",
       "      <td>0.000000</td>\n",
       "      <td>0.0</td>\n",
       "      <td>1.000000</td>\n",
       "      <td>0.000000</td>\n",
       "      <td>0.000000</td>\n",
       "      <td>0.000000</td>\n",
       "      <td>0.000000</td>\n",
       "      <td>0.000000</td>\n",
       "      <td>0.000000</td>\n",
       "      <td>0.000000</td>\n",
       "      <td>0.000000</td>\n",
       "      <td>0.000000</td>\n",
       "      <td>0.000000</td>\n",
       "      <td>0.000000</td>\n",
       "      <td>0.000000</td>\n",
       "      <td>1.000000</td>\n",
       "      <td>0.000000</td>\n",
       "      <td>1.000000</td>\n",
       "      <td>0.000000</td>\n",
       "      <td>0.000000</td>\n",
       "      <td>0.000000</td>\n",
       "      <td>0.000000</td>\n",
       "      <td>0.000000</td>\n",
       "      <td>0.000000</td>\n",
       "      <td>0.000000</td>\n",
       "      <td>0.000000</td>\n",
       "      <td>0.000000</td>\n",
       "      <td>0.000000</td>\n",
       "      <td>0.000000</td>\n",
       "      <td>0.000000</td>\n",
       "      <td>0.000000</td>\n",
       "      <td>0.000000</td>\n",
       "      <td>0.000000</td>\n",
       "      <td>0.000000</td>\n",
       "      <td>0.000000</td>\n",
       "      <td>0.000000</td>\n",
       "      <td>0.000000</td>\n",
       "      <td>0.000000</td>\n",
       "      <td>0.000000</td>\n",
       "    </tr>\n",
       "    <tr>\n",
       "      <th>50%</th>\n",
       "      <td>4220.000000</td>\n",
       "      <td>99.150000</td>\n",
       "      <td>0.000000</td>\n",
       "      <td>0.0</td>\n",
       "      <td>0.000000</td>\n",
       "      <td>0.000000</td>\n",
       "      <td>0.000000</td>\n",
       "      <td>0.000000</td>\n",
       "      <td>0.000000</td>\n",
       "      <td>0.000000</td>\n",
       "      <td>0.000000</td>\n",
       "      <td>0.000000</td>\n",
       "      <td>0.000000</td>\n",
       "      <td>0.000000</td>\n",
       "      <td>0.000000</td>\n",
       "      <td>0.000000</td>\n",
       "      <td>0.000000</td>\n",
       "      <td>0.000000</td>\n",
       "      <td>1.000000</td>\n",
       "      <td>0.000000</td>\n",
       "      <td>0.000000</td>\n",
       "      <td>0.000000</td>\n",
       "      <td>0.000000</td>\n",
       "      <td>0.000000</td>\n",
       "      <td>0.000000</td>\n",
       "      <td>0.000000</td>\n",
       "      <td>0.000000</td>\n",
       "      <td>0.000000</td>\n",
       "      <td>0.000000</td>\n",
       "      <td>0.000000</td>\n",
       "      <td>0.000000</td>\n",
       "      <td>0.000000</td>\n",
       "      <td>0.000000</td>\n",
       "      <td>0.000000</td>\n",
       "      <td>0.000000</td>\n",
       "      <td>0.000000</td>\n",
       "      <td>0.000000</td>\n",
       "      <td>1.000000</td>\n",
       "      <td>0.000000</td>\n",
       "      <td>0.000000</td>\n",
       "      <td>...</td>\n",
       "      <td>0.000000</td>\n",
       "      <td>0.000000</td>\n",
       "      <td>0.0</td>\n",
       "      <td>1.000000</td>\n",
       "      <td>0.000000</td>\n",
       "      <td>0.000000</td>\n",
       "      <td>0.000000</td>\n",
       "      <td>0.000000</td>\n",
       "      <td>0.000000</td>\n",
       "      <td>0.000000</td>\n",
       "      <td>0.000000</td>\n",
       "      <td>0.000000</td>\n",
       "      <td>0.000000</td>\n",
       "      <td>0.000000</td>\n",
       "      <td>0.000000</td>\n",
       "      <td>0.000000</td>\n",
       "      <td>1.000000</td>\n",
       "      <td>1.000000</td>\n",
       "      <td>1.000000</td>\n",
       "      <td>0.000000</td>\n",
       "      <td>0.000000</td>\n",
       "      <td>0.000000</td>\n",
       "      <td>0.000000</td>\n",
       "      <td>0.000000</td>\n",
       "      <td>0.000000</td>\n",
       "      <td>0.000000</td>\n",
       "      <td>0.000000</td>\n",
       "      <td>0.000000</td>\n",
       "      <td>0.000000</td>\n",
       "      <td>0.000000</td>\n",
       "      <td>0.000000</td>\n",
       "      <td>0.000000</td>\n",
       "      <td>0.000000</td>\n",
       "      <td>0.000000</td>\n",
       "      <td>0.000000</td>\n",
       "      <td>0.000000</td>\n",
       "      <td>0.000000</td>\n",
       "      <td>0.000000</td>\n",
       "      <td>0.000000</td>\n",
       "      <td>0.000000</td>\n",
       "    </tr>\n",
       "    <tr>\n",
       "      <th>75%</th>\n",
       "      <td>6314.000000</td>\n",
       "      <td>109.010000</td>\n",
       "      <td>0.000000</td>\n",
       "      <td>0.0</td>\n",
       "      <td>0.000000</td>\n",
       "      <td>0.000000</td>\n",
       "      <td>1.000000</td>\n",
       "      <td>0.000000</td>\n",
       "      <td>0.000000</td>\n",
       "      <td>0.000000</td>\n",
       "      <td>0.000000</td>\n",
       "      <td>0.000000</td>\n",
       "      <td>0.000000</td>\n",
       "      <td>0.000000</td>\n",
       "      <td>0.000000</td>\n",
       "      <td>0.000000</td>\n",
       "      <td>0.000000</td>\n",
       "      <td>0.000000</td>\n",
       "      <td>1.000000</td>\n",
       "      <td>0.000000</td>\n",
       "      <td>0.000000</td>\n",
       "      <td>0.000000</td>\n",
       "      <td>0.000000</td>\n",
       "      <td>0.000000</td>\n",
       "      <td>0.000000</td>\n",
       "      <td>0.000000</td>\n",
       "      <td>0.000000</td>\n",
       "      <td>0.000000</td>\n",
       "      <td>0.000000</td>\n",
       "      <td>0.000000</td>\n",
       "      <td>0.000000</td>\n",
       "      <td>0.000000</td>\n",
       "      <td>0.000000</td>\n",
       "      <td>0.000000</td>\n",
       "      <td>0.000000</td>\n",
       "      <td>0.000000</td>\n",
       "      <td>1.000000</td>\n",
       "      <td>1.000000</td>\n",
       "      <td>0.000000</td>\n",
       "      <td>0.000000</td>\n",
       "      <td>...</td>\n",
       "      <td>0.000000</td>\n",
       "      <td>0.000000</td>\n",
       "      <td>0.0</td>\n",
       "      <td>1.000000</td>\n",
       "      <td>0.000000</td>\n",
       "      <td>1.000000</td>\n",
       "      <td>1.000000</td>\n",
       "      <td>0.000000</td>\n",
       "      <td>0.000000</td>\n",
       "      <td>0.000000</td>\n",
       "      <td>1.000000</td>\n",
       "      <td>0.000000</td>\n",
       "      <td>0.000000</td>\n",
       "      <td>1.000000</td>\n",
       "      <td>0.000000</td>\n",
       "      <td>0.000000</td>\n",
       "      <td>1.000000</td>\n",
       "      <td>1.000000</td>\n",
       "      <td>1.000000</td>\n",
       "      <td>0.000000</td>\n",
       "      <td>0.000000</td>\n",
       "      <td>0.000000</td>\n",
       "      <td>0.000000</td>\n",
       "      <td>0.000000</td>\n",
       "      <td>0.000000</td>\n",
       "      <td>0.000000</td>\n",
       "      <td>0.000000</td>\n",
       "      <td>0.000000</td>\n",
       "      <td>0.000000</td>\n",
       "      <td>0.000000</td>\n",
       "      <td>1.000000</td>\n",
       "      <td>0.000000</td>\n",
       "      <td>1.000000</td>\n",
       "      <td>0.000000</td>\n",
       "      <td>0.000000</td>\n",
       "      <td>0.000000</td>\n",
       "      <td>0.000000</td>\n",
       "      <td>0.000000</td>\n",
       "      <td>0.000000</td>\n",
       "      <td>0.000000</td>\n",
       "    </tr>\n",
       "    <tr>\n",
       "      <th>max</th>\n",
       "      <td>8417.000000</td>\n",
       "      <td>265.320000</td>\n",
       "      <td>1.000000</td>\n",
       "      <td>0.0</td>\n",
       "      <td>1.000000</td>\n",
       "      <td>1.000000</td>\n",
       "      <td>1.000000</td>\n",
       "      <td>1.000000</td>\n",
       "      <td>1.000000</td>\n",
       "      <td>1.000000</td>\n",
       "      <td>1.000000</td>\n",
       "      <td>1.000000</td>\n",
       "      <td>1.000000</td>\n",
       "      <td>1.000000</td>\n",
       "      <td>1.000000</td>\n",
       "      <td>1.000000</td>\n",
       "      <td>1.000000</td>\n",
       "      <td>1.000000</td>\n",
       "      <td>1.000000</td>\n",
       "      <td>1.000000</td>\n",
       "      <td>1.000000</td>\n",
       "      <td>1.000000</td>\n",
       "      <td>1.000000</td>\n",
       "      <td>1.000000</td>\n",
       "      <td>1.000000</td>\n",
       "      <td>1.000000</td>\n",
       "      <td>1.000000</td>\n",
       "      <td>1.000000</td>\n",
       "      <td>1.000000</td>\n",
       "      <td>1.000000</td>\n",
       "      <td>1.000000</td>\n",
       "      <td>1.000000</td>\n",
       "      <td>1.000000</td>\n",
       "      <td>1.000000</td>\n",
       "      <td>1.000000</td>\n",
       "      <td>1.000000</td>\n",
       "      <td>1.000000</td>\n",
       "      <td>1.000000</td>\n",
       "      <td>1.000000</td>\n",
       "      <td>1.000000</td>\n",
       "      <td>...</td>\n",
       "      <td>1.000000</td>\n",
       "      <td>1.000000</td>\n",
       "      <td>0.0</td>\n",
       "      <td>1.000000</td>\n",
       "      <td>1.000000</td>\n",
       "      <td>1.000000</td>\n",
       "      <td>1.000000</td>\n",
       "      <td>1.000000</td>\n",
       "      <td>1.000000</td>\n",
       "      <td>1.000000</td>\n",
       "      <td>1.000000</td>\n",
       "      <td>1.000000</td>\n",
       "      <td>1.000000</td>\n",
       "      <td>1.000000</td>\n",
       "      <td>1.000000</td>\n",
       "      <td>1.000000</td>\n",
       "      <td>1.000000</td>\n",
       "      <td>1.000000</td>\n",
       "      <td>1.000000</td>\n",
       "      <td>1.000000</td>\n",
       "      <td>1.000000</td>\n",
       "      <td>1.000000</td>\n",
       "      <td>1.000000</td>\n",
       "      <td>1.000000</td>\n",
       "      <td>1.000000</td>\n",
       "      <td>1.000000</td>\n",
       "      <td>1.000000</td>\n",
       "      <td>1.000000</td>\n",
       "      <td>1.000000</td>\n",
       "      <td>1.000000</td>\n",
       "      <td>1.000000</td>\n",
       "      <td>1.000000</td>\n",
       "      <td>1.000000</td>\n",
       "      <td>1.000000</td>\n",
       "      <td>1.000000</td>\n",
       "      <td>1.000000</td>\n",
       "      <td>1.000000</td>\n",
       "      <td>1.000000</td>\n",
       "      <td>1.000000</td>\n",
       "      <td>1.000000</td>\n",
       "    </tr>\n",
       "  </tbody>\n",
       "</table>\n",
       "<p>8 rows × 370 columns</p>\n",
       "</div>"
      ],
      "text/plain": [
       "                ID            y  ...         X384         X385\n",
       "count  4209.000000  4209.000000  ...  4209.000000  4209.000000\n",
       "mean   4205.960798   100.669318  ...     0.000475     0.001426\n",
       "std    2437.608688    12.679381  ...     0.021796     0.037734\n",
       "min       0.000000    72.110000  ...     0.000000     0.000000\n",
       "25%    2095.000000    90.820000  ...     0.000000     0.000000\n",
       "50%    4220.000000    99.150000  ...     0.000000     0.000000\n",
       "75%    6314.000000   109.010000  ...     0.000000     0.000000\n",
       "max    8417.000000   265.320000  ...     1.000000     1.000000\n",
       "\n",
       "[8 rows x 370 columns]"
      ]
     },
     "execution_count": 729,
     "metadata": {
      "tags": []
     },
     "output_type": "execute_result"
    }
   ],
   "source": [
    "df_tr.describe()"
   ]
  },
  {
   "cell_type": "markdown",
   "metadata": {
    "colab_type": "text",
    "id": "XcUYkvE0phIW"
   },
   "source": [
    "### Observation:\n",
    "\n",
    " - ___Maximum time took to test car is 265.32 seconds.___\n",
    " - ___Minimum time took to test car is 72.11 seconds.___\n",
    " - ___Average time took to test car is 100.669 seconds.___"
   ]
  },
  {
   "cell_type": "markdown",
   "metadata": {
    "colab_type": "text",
    "id": "QnmHeIQuphIX"
   },
   "source": [
    "### Pandas Profiling:\n",
    "\n",
    "One of the best package to analyse data which gives histogram, quantile statistics, missing values, unique values, descriptive statistics, most frequent and correlation.\n",
    "\n",
    "Source: https://towardsdatascience.com/10-simple-hacks-to-speed-up-your-data-analysis-in-python-ec18c6396e6b\n",
    "\n",
    "\n",
    "***\n",
    "##### pip install pandas-profiling\n",
    "##### or\n",
    "##### conda install -c anaconda pandas-profiling\n",
    "***"
   ]
  },
  {
   "cell_type": "code",
   "execution_count": 7,
   "metadata": {
    "colab": {
     "base_uri": "https://localhost:8080/",
     "height": 1000
    },
    "colab_type": "code",
    "executionInfo": {
     "elapsed": 63492,
     "status": "ok",
     "timestamp": 1567020451657,
     "user": {
      "displayName": "sandeep panchal",
      "photoUrl": "https://lh3.googleusercontent.com/a-/AAuE7mCDqp8ZcyRAywNG1QL_TT0dbqm_TRCL6CyGzR511w=s64",
      "userId": "16028125481769875260"
     },
     "user_tz": -330
    },
    "id": "eV0F_OkiphIY",
    "outputId": "0bf0fec9-69eb-4da1-8156-6161b113c6b7"
   },
   "outputs": [
    {
     "data": {
      "text/html": [
       "\n",
       "        <iframe\n",
       "            width=\"100%\"\n",
       "            height=\"800px\"\n",
       "            src=\"ipynb_tmp\\profile_7489623456.html\"\n",
       "            frameborder=\"0\"\n",
       "            allowfullscreen\n",
       "        ></iframe>\n",
       "        "
      ],
      "text/plain": [
       "<IPython.lib.display.IFrame at 0xaf67b38>"
      ]
     },
     "metadata": {},
     "output_type": "display_data"
    },
    {
     "data": {
      "text/plain": []
     },
     "execution_count": 7,
     "metadata": {},
     "output_type": "execute_result"
    }
   ],
   "source": [
    "import pandas_profiling as pp\n",
    "\n",
    "pp.ProfileReport(df_tr)"
   ]
  },
  {
   "cell_type": "markdown",
   "metadata": {
    "colab_type": "text",
    "id": "XciN_W86phId"
   },
   "source": [
    "### Observation:\n",
    "\n",
    " - ___Variable Type___\n",
    "\n",
    "    - ___Numeric - 2___\n",
    "    - ___Categorical - 8___\n",
    "    - ___Boolean - 272___\n",
    "    - ___Rejected - 96___"
   ]
  },
  {
   "cell_type": "markdown",
   "metadata": {
    "colab_type": "text",
    "id": "BFqlwjcYphIf"
   },
   "source": [
    "### Visualisation of correlation between variables with heatmap."
   ]
  },
  {
   "cell_type": "code",
   "execution_count": 731,
   "metadata": {
    "colab": {
     "base_uri": "https://localhost:8080/",
     "height": 303
    },
    "colab_type": "code",
    "executionInfo": {
     "elapsed": 65039,
     "status": "ok",
     "timestamp": 1567020453242,
     "user": {
      "displayName": "sandeep panchal",
      "photoUrl": "https://lh3.googleusercontent.com/a-/AAuE7mCDqp8ZcyRAywNG1QL_TT0dbqm_TRCL6CyGzR511w=s64",
      "userId": "16028125481769875260"
     },
     "user_tz": -330
    },
    "id": "PC-8KTJgphIg",
    "outputId": "22f87a8d-d458-415e-e638-3d0eeb2e0b5e"
   },
   "outputs": [
    {
     "data": {
      "text/plain": [
       "<matplotlib.axes._subplots.AxesSubplot at 0x7fb6c72dcba8>"
      ]
     },
     "execution_count": 731,
     "metadata": {
      "tags": []
     },
     "output_type": "execute_result"
    },
    {
     "data": {
      "image/png": "[encoded data removed]",
      "text/plain": [
       "<Figure size 432x288 with 2 Axes>"
      ]
     },
     "metadata": {
      "tags": []
     },
     "output_type": "display_data"
    }
   ],
   "source": [
    "%matplotlib inline\n",
    "\n",
    "sns.heatmap(df_tr.corr())\n"
   ]
  },
  {
   "cell_type": "markdown",
   "metadata": {
    "colab_type": "text",
    "id": "AVcJTxkophIk"
   },
   "source": [
    "### Observation:\n",
    "\n",
    " - ___It is quite hard to analyse which features are correated and which are not. Anyway, we have detail data of correlation varaibles which we have viewed using profiling package.___"
   ]
  },
  {
   "cell_type": "markdown",
   "metadata": {
    "colab_type": "text",
    "id": "heb4HCfWphI9"
   },
   "source": [
    "#### Features with constant value 0 or 1\n",
    " - ___We will remove features with constant value 0 or 1.___"
   ]
  },
  {
   "cell_type": "code",
   "execution_count": 0,
   "metadata": {
    "colab": {},
    "colab_type": "code",
    "id": "eBJQp9xVphJC"
   },
   "outputs": [],
   "source": [
    "# Not considering columns of categorical type\n",
    "\n",
    "df_tr_cor_type = df_tr.select_dtypes(exclude = [object])\n",
    "\n",
    "con_val = []\n",
    "\n",
    "for i in range(len(df_tr_cor_type.columns)):\n",
    "    j = df_tr_cor_type.columns[i]\n",
    "    \n",
    "    # Constant value 0\n",
    "    if df_tr_cor_type[j].max() == 0 and df_tr_cor_type[j].min() == 0:\n",
    "        con_val.append(df_tr_cor_type.columns[i])\n",
    "    \n",
    "    # Constant value 1\n",
    "    if df_tr_cor_type[j].max() == 1 and df_tr_cor_type[j].min() == 1:\n",
    "        con_val.append(df_tr_cor_type.columns[i])"
   ]
  },
  {
   "cell_type": "code",
   "execution_count": 733,
   "metadata": {
    "colab": {
     "base_uri": "https://localhost:8080/",
     "height": 102
    },
    "colab_type": "code",
    "executionInfo": {
     "elapsed": 64966,
     "status": "ok",
     "timestamp": 1567020453246,
     "user": {
      "displayName": "sandeep panchal",
      "photoUrl": "https://lh3.googleusercontent.com/a-/AAuE7mCDqp8ZcyRAywNG1QL_TT0dbqm_TRCL6CyGzR511w=s64",
      "userId": "16028125481769875260"
     },
     "user_tz": -330
    },
    "id": "3EKCDH80phJG",
    "outputId": "f20af85d-a482-457d-bc56-11b51a63601b"
   },
   "outputs": [
    {
     "name": "stdout",
     "output_type": "stream",
     "text": [
      "\n",
      "-> Number of features with constant value 0: 12 \n",
      "\n",
      "-> Number of features which should not be considered for analysis: 12 \n",
      "\n"
     ]
    }
   ],
   "source": [
    "print(\"\\n-> Number of features with constant value 0:\", len(con_val), '\\n')\n",
    "print(\"-> Number of features which should not be considered for analysis:\", len(con_val), '\\n')"
   ]
  },
  {
   "cell_type": "code",
   "execution_count": 734,
   "metadata": {
    "colab": {
     "base_uri": "https://localhost:8080/",
     "height": 136
    },
    "colab_type": "code",
    "executionInfo": {
     "elapsed": 64932,
     "status": "ok",
     "timestamp": 1567020453246,
     "user": {
      "displayName": "sandeep panchal",
      "photoUrl": "https://lh3.googleusercontent.com/a-/AAuE7mCDqp8ZcyRAywNG1QL_TT0dbqm_TRCL6CyGzR511w=s64",
      "userId": "16028125481769875260"
     },
     "user_tz": -330
    },
    "id": "u_jdRo5FphJP",
    "outputId": "5b5c860f-05a8-4072-957f-0f480d94f908"
   },
   "outputs": [
    {
     "name": "stdout",
     "output_type": "stream",
     "text": [
      "\n",
      "-> Removing 12 features which has constant value 0 or 1.\n",
      "\n",
      "-> Number of columns in train dataframe before removing features: 378 \n",
      "\n",
      "-> Number of columns in train dataframe after removing features with constant value 0 or 1: 366 \n",
      "\n"
     ]
    }
   ],
   "source": [
    "print(\"\\n-> Removing\", len(con_val), \"features which has constant value 0 or 1.\\n\")\n",
    "print(\"-> Number of columns in train dataframe before removing features:\", df_tr.shape[1], '\\n')\n",
    "\n",
    "df_tr_up = df_tr.drop(con_val, axis = 1)\n",
    "\n",
    "print(\"-> Number of columns in train dataframe after removing features with constant value 0 or 1:\", df_tr_up.shape[1], '\\n')"
   ]
  },
  {
   "cell_type": "code",
   "execution_count": 735,
   "metadata": {
    "colab": {
     "base_uri": "https://localhost:8080/",
     "height": 68
    },
    "colab_type": "code",
    "executionInfo": {
     "elapsed": 64894,
     "status": "ok",
     "timestamp": 1567020453248,
     "user": {
      "displayName": "sandeep panchal",
      "photoUrl": "https://lh3.googleusercontent.com/a-/AAuE7mCDqp8ZcyRAywNG1QL_TT0dbqm_TRCL6CyGzR511w=s64",
      "userId": "16028125481769875260"
     },
     "user_tz": -330
    },
    "id": "oXmFas8pphJb",
    "outputId": "4b38b26f-0142-4f21-be86-897f27b27d9e",
    "scrolled": true
   },
   "outputs": [
    {
     "name": "stdout",
     "output_type": "stream",
     "text": [
      "\n",
      "-> Percentage of data reduce to: 96.825 %\n",
      "\n"
     ]
    }
   ],
   "source": [
    "print(\"\\n-> Percentage of data reduce to:\", np.round(((df_tr_up.shape[1]) / df_tr.shape[1]) * 100, 3), '%\\n')"
   ]
  },
  {
   "cell_type": "markdown",
   "metadata": {
    "colab_type": "text",
    "id": "hMLVweEhphJf"
   },
   "source": [
    "### Null values"
   ]
  },
  {
   "cell_type": "code",
   "execution_count": 736,
   "metadata": {
    "colab": {
     "base_uri": "https://localhost:8080/",
     "height": 439
    },
    "colab_type": "code",
    "executionInfo": {
     "elapsed": 67200,
     "status": "ok",
     "timestamp": 1567020455577,
     "user": {
      "displayName": "sandeep panchal",
      "photoUrl": "https://lh3.googleusercontent.com/a-/AAuE7mCDqp8ZcyRAywNG1QL_TT0dbqm_TRCL6CyGzR511w=s64",
      "userId": "16028125481769875260"
     },
     "user_tz": -330
    },
    "id": "wAEl7-6fphJg",
    "outputId": "679936dd-c539-4d41-d7f8-4b905e69d3b6"
   },
   "outputs": [
    {
     "name": "stdout",
     "output_type": "stream",
     "text": [
      "\n",
      "-> Checking if there are any null values in the dataset.\n",
      "\n",
      "-> There are no null values in the dataset.\n",
      "\n",
      "-> Heatmap to visually view null values if any.\n",
      "\n",
      "************************************************** \n",
      "\n"
     ]
    },
    {
     "data": {
      "image/png": "[encoded data removed]",
      "text/plain": [
       "<Figure size 432x288 with 2 Axes>"
      ]
     },
     "metadata": {
      "tags": []
     },
     "output_type": "display_data"
    }
   ],
   "source": [
    "print(\"\\n-> Checking if there are any null values in the dataset.\\n\")\n",
    "\n",
    "if df_tr_up.isnull().values.any() == False:\n",
    "    print(\"-> There are no null values in the dataset.\\n\")\n",
    "    print(\"-> Heatmap to visually view null values if any.\\n\")\n",
    "    print(\"*\"*50, '\\n')\n",
    "    sns.heatmap(df_tr_up.isnull(), cmap = 'viridis')\n",
    "    \n",
    "else:\n",
    "    print(\"-> There are null values in the dataset...\\n\")\n",
    "    print(\"*\"*50, '\\n')\n",
    "    sns.heatmap(df_tr_up.isnull(), cmap = 'viridis')"
   ]
  },
  {
   "cell_type": "markdown",
   "metadata": {
    "colab_type": "text",
    "id": "p5JNgy-5phJk"
   },
   "source": [
    "# Exploratory Data Analysis"
   ]
  },
  {
   "cell_type": "code",
   "execution_count": 737,
   "metadata": {
    "colab": {
     "base_uri": "https://localhost:8080/",
     "height": 569
    },
    "colab_type": "code",
    "executionInfo": {
     "elapsed": 67077,
     "status": "ok",
     "timestamp": 1567020455578,
     "user": {
      "displayName": "sandeep panchal",
      "photoUrl": "https://lh3.googleusercontent.com/a-/AAuE7mCDqp8ZcyRAywNG1QL_TT0dbqm_TRCL6CyGzR511w=s64",
      "userId": "16028125481769875260"
     },
     "user_tz": -330
    },
    "id": "wRK2GsZvphJl",
    "outputId": "e82b9bcb-fd7d-4134-9b7a-7d9a9af11c87"
   },
   "outputs": [
    {
     "name": "stdout",
     "output_type": "stream",
     "text": [
      "\n",
      "-> Maximum time taken to test: 265.32 \n",
      "\n",
      "-> Minimum time taken to test: 72.11 \n",
      "\n",
      "************************************************** \n",
      "\n",
      "\n",
      "-> Plotting distribution of target variable.\n",
      "\n"
     ]
    },
    {
     "data": {
      "text/plain": [
       "[<matplotlib.lines.Line2D at 0x7fb6c7169e48>]"
      ]
     },
     "execution_count": 737,
     "metadata": {
      "tags": []
     },
     "output_type": "execute_result"
    },
    {
     "data": {
      "image/png": "[encoded data removed]",
      "text/plain": [
       "<Figure size 1440x432 with 1 Axes>"
      ]
     },
     "metadata": {
      "tags": []
     },
     "output_type": "display_data"
    }
   ],
   "source": [
    "print(\"\\n-> Maximum time taken to test:\", df_tr_up.y.max(), '\\n')\n",
    "print(\"-> Minimum time taken to test:\", df_tr_up.y.min(), '\\n')\n",
    "print(\"*\"*50, '\\n')\n",
    "print(\"\\n-> Plotting distribution of target variable.\\n\")\n",
    "plt.figure(figsize = (20,6))\n",
    "plt.plot(df_tr_up.y)"
   ]
  },
  {
   "cell_type": "markdown",
   "metadata": {
    "colab_type": "text",
    "id": "OyeP3Rd-phJo"
   },
   "source": [
    "### Observation:\n",
    "\n",
    " - ___Distribution of target variable i.e time taken to test is almost linear with minor deviation. Also, we can see that highest time taken to test is around 265 seconds and lowest time taken to test is around 72 seconds.___"
   ]
  },
  {
   "cell_type": "code",
   "execution_count": 738,
   "metadata": {
    "colab": {
     "base_uri": "https://localhost:8080/",
     "height": 463
    },
    "colab_type": "code",
    "executionInfo": {
     "elapsed": 67025,
     "status": "ok",
     "timestamp": 1567020455581,
     "user": {
      "displayName": "sandeep panchal",
      "photoUrl": "https://lh3.googleusercontent.com/a-/AAuE7mCDqp8ZcyRAywNG1QL_TT0dbqm_TRCL6CyGzR511w=s64",
      "userId": "16028125481769875260"
     },
     "user_tz": -330
    },
    "id": "QaUNuX4JphJp",
    "outputId": "a5da6fc2-d360-4b1b-b080-93528357fabc"
   },
   "outputs": [
    {
     "name": "stdout",
     "output_type": "stream",
     "text": [
      "\n",
      "-> Box plot of target variable.\n",
      "\n"
     ]
    },
    {
     "data": {
      "text/plain": [
       "<matplotlib.axes._subplots.AxesSubplot at 0x7fb6ca413588>"
      ]
     },
     "execution_count": 738,
     "metadata": {
      "tags": []
     },
     "output_type": "execute_result"
    },
    {
     "data": {
      "image/png": "[encoded data removed]",
      "text/plain": [
       "<Figure size 1440x432 with 1 Axes>"
      ]
     },
     "metadata": {
      "tags": []
     },
     "output_type": "display_data"
    }
   ],
   "source": [
    "print(\"\\n-> Box plot of target variable.\\n\")\n",
    "\n",
    "plt.figure(figsize = (20,6))\n",
    "sns.boxplot(df_tr_up.y)"
   ]
  },
  {
   "cell_type": "markdown",
   "metadata": {
    "colab_type": "text",
    "id": "3BHamaw9phJs"
   },
   "source": [
    "### Observation:\n",
    " \n",
    " - ___Median of target variable is around 98___\n",
    " - ___Point (time in seconds to test) which is far from upper whisker. It shows that maximum time take to test is around 265 seconds and lowest time taken to test is around 72 seconds.___\n",
    " \n",
    " \n",
    " - ___Quartile Groups___\n",
    "\n",
    "     - ___First quartile group (1st 25%), took 70 - 90 seconds to test.___\n",
    "     - ___Second quartile group (2nd 25%), took 91 - 99 seconds to test.___\n",
    "     - ___Third quartile group (3rd 25%), took 100 - 110 seconds to test.___\n",
    "     - ___Fourth quartile group (4th 25%), took 111 - 130 seconds to test.___    \n",
    "    "
   ]
  },
  {
   "cell_type": "markdown",
   "metadata": {
    "colab_type": "text",
    "id": "MECTj-IYphJt"
   },
   "source": [
    "# Outlier\n",
    "\n",
    "##### From the above 2 graphs, we can see an outlier that is a test has taken way too long. We need to remove that outlier."
   ]
  },
  {
   "cell_type": "code",
   "execution_count": 739,
   "metadata": {
    "colab": {
     "base_uri": "https://localhost:8080/",
     "height": 136
    },
    "colab_type": "code",
    "executionInfo": {
     "elapsed": 67009,
     "status": "ok",
     "timestamp": 1567020455582,
     "user": {
      "displayName": "sandeep panchal",
      "photoUrl": "https://lh3.googleusercontent.com/a-/AAuE7mCDqp8ZcyRAywNG1QL_TT0dbqm_TRCL6CyGzR511w=s64",
      "userId": "16028125481769875260"
     },
     "user_tz": -330
    },
    "id": "Jj866KQiphJu",
    "outputId": "5476c9af-22fe-49b7-b144-4107d9612eb5"
   },
   "outputs": [
    {
     "name": "stdout",
     "output_type": "stream",
     "text": [
      "\n",
      " -> Number of outlier we found i.e time taken to test is too long (>200): 1\n",
      "\n",
      " -> Outlier we found i.e time taken to test is too long (>200): 883    265.32\n",
      "Name: y, dtype: float64 \n",
      "\n",
      "Corresponding ID is\n"
     ]
    }
   ],
   "source": [
    "print(\"\\n -> Number of outlier we found i.e time taken to test is too long (>200):\", len(df_tr_up[df_tr_up.y >= 200]['y']))\n",
    "\n",
    "print(\"\\n -> Outlier we found i.e time taken to test is too long (>200):\", df_tr_up[df_tr_up.y >= 200]['y'], '\\n')\n",
    "\n",
    "print(\"Corresponding ID is\")\n"
   ]
  },
  {
   "cell_type": "code",
   "execution_count": 741,
   "metadata": {
    "colab": {
     "base_uri": "https://localhost:8080/",
     "height": 51
    },
    "colab_type": "code",
    "executionInfo": {
     "elapsed": 66976,
     "status": "ok",
     "timestamp": 1567020455585,
     "user": {
      "displayName": "sandeep panchal",
      "photoUrl": "https://lh3.googleusercontent.com/a-/AAuE7mCDqp8ZcyRAywNG1QL_TT0dbqm_TRCL6CyGzR511w=s64",
      "userId": "16028125481769875260"
     },
     "user_tz": -330
    },
    "id": "uP6UU6feNlgz",
    "outputId": "2efd05ca-273c-4ca1-c19d-31300cc310c9"
   },
   "outputs": [
    {
     "name": "stdout",
     "output_type": "stream",
     "text": [
      "\n",
      " -> Removing outlier...\n"
     ]
    }
   ],
   "source": [
    "print(\"\\n -> Removing outlier...\")\n",
    "\n",
    "df_tr_up = df_tr_up.drop(index = df_tr_up[df_tr_up.y >= 200].index, axis = 0)"
   ]
  },
  {
   "cell_type": "markdown",
   "metadata": {
    "colab_type": "text",
    "id": "mUAmmwEtphJ5"
   },
   "source": [
    "##  Label Encoding\n",
    "\n",
    " - __Categorical Features__:\n",
    "    - __8 features are categorical features. Applying label encoding so as to assign unique values to unique categories.__"
   ]
  },
  {
   "cell_type": "markdown",
   "metadata": {
    "colab_type": "text",
    "id": "_trQHLkfphJ7"
   },
   "source": [
    "### Renaming y label to target"
   ]
  },
  {
   "cell_type": "code",
   "execution_count": 0,
   "metadata": {
    "colab": {},
    "colab_type": "code",
    "id": "lt_MJ2TfphJ8"
   },
   "outputs": [],
   "source": [
    "df_tr_up.rename(index = str, columns = {'y': 'target'}, inplace = True)"
   ]
  },
  {
   "cell_type": "code",
   "execution_count": 744,
   "metadata": {
    "colab": {
     "base_uri": "https://localhost:8080/",
     "height": 381
    },
    "colab_type": "code",
    "executionInfo": {
     "elapsed": 67471,
     "status": "ok",
     "timestamp": 1567020456125,
     "user": {
      "displayName": "sandeep panchal",
      "photoUrl": "https://lh3.googleusercontent.com/a-/AAuE7mCDqp8ZcyRAywNG1QL_TT0dbqm_TRCL6CyGzR511w=s64",
      "userId": "16028125481769875260"
     },
     "user_tz": -330
    },
    "id": "g3euJFcbphJ_",
    "outputId": "ece5d6d7-d805-41fa-fdec-830c3fa63f90"
   },
   "outputs": [
    {
     "name": "stdout",
     "output_type": "stream",
     "text": [
      "\n",
      " -> Info of dataframe:\n",
      "\n",
      "<class 'pandas.core.frame.DataFrame'>\n",
      "Index: 4208 entries, 0 to 4208\n",
      "Columns: 366 entries, ID to X385\n",
      "dtypes: float64(1), int64(357), object(8)\n",
      "memory usage: 11.8+ MB\n",
      "None \n",
      "\n",
      "\n",
      " -> Head of dataframe:\n",
      "\n"
     ]
    },
    {
     "data": {
      "text/html": [
       "<div>\n",
       "<style scoped>\n",
       "    .dataframe tbody tr th:only-of-type {\n",
       "        vertical-align: middle;\n",
       "    }\n",
       "\n",
       "    .dataframe tbody tr th {\n",
       "        vertical-align: top;\n",
       "    }\n",
       "\n",
       "    .dataframe thead th {\n",
       "        text-align: right;\n",
       "    }\n",
       "</style>\n",
       "<table border=\"1\" class=\"dataframe\">\n",
       "  <thead>\n",
       "    <tr style=\"text-align: right;\">\n",
       "      <th></th>\n",
       "      <th>ID</th>\n",
       "      <th>target</th>\n",
       "      <th>X0</th>\n",
       "      <th>X1</th>\n",
       "      <th>X2</th>\n",
       "      <th>X3</th>\n",
       "      <th>X4</th>\n",
       "      <th>X5</th>\n",
       "      <th>X6</th>\n",
       "      <th>X8</th>\n",
       "      <th>X10</th>\n",
       "      <th>X12</th>\n",
       "      <th>X13</th>\n",
       "      <th>X14</th>\n",
       "      <th>X15</th>\n",
       "      <th>X16</th>\n",
       "      <th>X17</th>\n",
       "      <th>X18</th>\n",
       "      <th>X19</th>\n",
       "      <th>X20</th>\n",
       "      <th>X21</th>\n",
       "      <th>X22</th>\n",
       "      <th>X23</th>\n",
       "      <th>X24</th>\n",
       "      <th>X26</th>\n",
       "      <th>X27</th>\n",
       "      <th>X28</th>\n",
       "      <th>X29</th>\n",
       "      <th>X30</th>\n",
       "      <th>X31</th>\n",
       "      <th>X32</th>\n",
       "      <th>X33</th>\n",
       "      <th>X34</th>\n",
       "      <th>X35</th>\n",
       "      <th>X36</th>\n",
       "      <th>X37</th>\n",
       "      <th>X38</th>\n",
       "      <th>X39</th>\n",
       "      <th>X40</th>\n",
       "      <th>X41</th>\n",
       "      <th>...</th>\n",
       "      <th>X344</th>\n",
       "      <th>X345</th>\n",
       "      <th>X346</th>\n",
       "      <th>X348</th>\n",
       "      <th>X349</th>\n",
       "      <th>X350</th>\n",
       "      <th>X351</th>\n",
       "      <th>X352</th>\n",
       "      <th>X353</th>\n",
       "      <th>X354</th>\n",
       "      <th>X355</th>\n",
       "      <th>X356</th>\n",
       "      <th>X357</th>\n",
       "      <th>X358</th>\n",
       "      <th>X359</th>\n",
       "      <th>X360</th>\n",
       "      <th>X361</th>\n",
       "      <th>X362</th>\n",
       "      <th>X363</th>\n",
       "      <th>X364</th>\n",
       "      <th>X365</th>\n",
       "      <th>X366</th>\n",
       "      <th>X367</th>\n",
       "      <th>X368</th>\n",
       "      <th>X369</th>\n",
       "      <th>X370</th>\n",
       "      <th>X371</th>\n",
       "      <th>X372</th>\n",
       "      <th>X373</th>\n",
       "      <th>X374</th>\n",
       "      <th>X375</th>\n",
       "      <th>X376</th>\n",
       "      <th>X377</th>\n",
       "      <th>X378</th>\n",
       "      <th>X379</th>\n",
       "      <th>X380</th>\n",
       "      <th>X382</th>\n",
       "      <th>X383</th>\n",
       "      <th>X384</th>\n",
       "      <th>X385</th>\n",
       "    </tr>\n",
       "  </thead>\n",
       "  <tbody>\n",
       "    <tr>\n",
       "      <th>0</th>\n",
       "      <td>0</td>\n",
       "      <td>130.81</td>\n",
       "      <td>k</td>\n",
       "      <td>v</td>\n",
       "      <td>at</td>\n",
       "      <td>a</td>\n",
       "      <td>d</td>\n",
       "      <td>u</td>\n",
       "      <td>j</td>\n",
       "      <td>o</td>\n",
       "      <td>0</td>\n",
       "      <td>0</td>\n",
       "      <td>1</td>\n",
       "      <td>0</td>\n",
       "      <td>0</td>\n",
       "      <td>0</td>\n",
       "      <td>0</td>\n",
       "      <td>1</td>\n",
       "      <td>0</td>\n",
       "      <td>0</td>\n",
       "      <td>1</td>\n",
       "      <td>0</td>\n",
       "      <td>0</td>\n",
       "      <td>0</td>\n",
       "      <td>0</td>\n",
       "      <td>0</td>\n",
       "      <td>0</td>\n",
       "      <td>0</td>\n",
       "      <td>0</td>\n",
       "      <td>1</td>\n",
       "      <td>0</td>\n",
       "      <td>0</td>\n",
       "      <td>0</td>\n",
       "      <td>1</td>\n",
       "      <td>0</td>\n",
       "      <td>1</td>\n",
       "      <td>0</td>\n",
       "      <td>0</td>\n",
       "      <td>0</td>\n",
       "      <td>0</td>\n",
       "      <td>...</td>\n",
       "      <td>0</td>\n",
       "      <td>0</td>\n",
       "      <td>0</td>\n",
       "      <td>0</td>\n",
       "      <td>0</td>\n",
       "      <td>0</td>\n",
       "      <td>0</td>\n",
       "      <td>0</td>\n",
       "      <td>0</td>\n",
       "      <td>1</td>\n",
       "      <td>0</td>\n",
       "      <td>0</td>\n",
       "      <td>0</td>\n",
       "      <td>0</td>\n",
       "      <td>0</td>\n",
       "      <td>0</td>\n",
       "      <td>1</td>\n",
       "      <td>0</td>\n",
       "      <td>0</td>\n",
       "      <td>0</td>\n",
       "      <td>0</td>\n",
       "      <td>0</td>\n",
       "      <td>0</td>\n",
       "      <td>0</td>\n",
       "      <td>0</td>\n",
       "      <td>0</td>\n",
       "      <td>0</td>\n",
       "      <td>0</td>\n",
       "      <td>0</td>\n",
       "      <td>0</td>\n",
       "      <td>0</td>\n",
       "      <td>0</td>\n",
       "      <td>1</td>\n",
       "      <td>0</td>\n",
       "      <td>0</td>\n",
       "      <td>0</td>\n",
       "      <td>0</td>\n",
       "      <td>0</td>\n",
       "      <td>0</td>\n",
       "      <td>0</td>\n",
       "    </tr>\n",
       "    <tr>\n",
       "      <th>1</th>\n",
       "      <td>6</td>\n",
       "      <td>88.53</td>\n",
       "      <td>k</td>\n",
       "      <td>t</td>\n",
       "      <td>av</td>\n",
       "      <td>e</td>\n",
       "      <td>d</td>\n",
       "      <td>y</td>\n",
       "      <td>l</td>\n",
       "      <td>o</td>\n",
       "      <td>0</td>\n",
       "      <td>0</td>\n",
       "      <td>0</td>\n",
       "      <td>0</td>\n",
       "      <td>0</td>\n",
       "      <td>0</td>\n",
       "      <td>0</td>\n",
       "      <td>1</td>\n",
       "      <td>0</td>\n",
       "      <td>0</td>\n",
       "      <td>0</td>\n",
       "      <td>0</td>\n",
       "      <td>0</td>\n",
       "      <td>0</td>\n",
       "      <td>0</td>\n",
       "      <td>1</td>\n",
       "      <td>0</td>\n",
       "      <td>0</td>\n",
       "      <td>0</td>\n",
       "      <td>1</td>\n",
       "      <td>0</td>\n",
       "      <td>0</td>\n",
       "      <td>0</td>\n",
       "      <td>1</td>\n",
       "      <td>0</td>\n",
       "      <td>1</td>\n",
       "      <td>0</td>\n",
       "      <td>0</td>\n",
       "      <td>0</td>\n",
       "      <td>0</td>\n",
       "      <td>...</td>\n",
       "      <td>0</td>\n",
       "      <td>0</td>\n",
       "      <td>0</td>\n",
       "      <td>1</td>\n",
       "      <td>0</td>\n",
       "      <td>0</td>\n",
       "      <td>0</td>\n",
       "      <td>0</td>\n",
       "      <td>0</td>\n",
       "      <td>0</td>\n",
       "      <td>0</td>\n",
       "      <td>0</td>\n",
       "      <td>0</td>\n",
       "      <td>0</td>\n",
       "      <td>0</td>\n",
       "      <td>0</td>\n",
       "      <td>1</td>\n",
       "      <td>0</td>\n",
       "      <td>1</td>\n",
       "      <td>0</td>\n",
       "      <td>0</td>\n",
       "      <td>0</td>\n",
       "      <td>0</td>\n",
       "      <td>0</td>\n",
       "      <td>0</td>\n",
       "      <td>0</td>\n",
       "      <td>0</td>\n",
       "      <td>0</td>\n",
       "      <td>0</td>\n",
       "      <td>0</td>\n",
       "      <td>1</td>\n",
       "      <td>0</td>\n",
       "      <td>0</td>\n",
       "      <td>0</td>\n",
       "      <td>0</td>\n",
       "      <td>0</td>\n",
       "      <td>0</td>\n",
       "      <td>0</td>\n",
       "      <td>0</td>\n",
       "      <td>0</td>\n",
       "    </tr>\n",
       "  </tbody>\n",
       "</table>\n",
       "<p>2 rows × 366 columns</p>\n",
       "</div>"
      ],
      "text/plain": [
       "   ID  target X0 X1  X2 X3 X4  ... X378 X379 X380  X382  X383  X384  X385\n",
       "0   0  130.81  k  v  at  a  d  ...    0    0    0     0     0     0     0\n",
       "1   6   88.53  k  t  av  e  d  ...    0    0    0     0     0     0     0\n",
       "\n",
       "[2 rows x 366 columns]"
      ]
     },
     "execution_count": 744,
     "metadata": {
      "tags": []
     },
     "output_type": "execute_result"
    }
   ],
   "source": [
    "print(\"\\n -> Info of dataframe:\\n\")\n",
    "print(df_tr_up.info(), '\\n')\n",
    "\n",
    "print(\"\\n -> Head of dataframe:\\n\")\n",
    "df_tr_up.head(2)"
   ]
  },
  {
   "cell_type": "markdown",
   "metadata": {
    "colab": {},
    "colab_type": "code",
    "id": "auORYK9HphKD"
   },
   "source": [
    "## Lable Encoder"
   ]
  },
  {
   "cell_type": "code",
   "execution_count": 0,
   "metadata": {
    "colab": {},
    "colab_type": "code",
    "id": "S6XbWvwtlxGw"
   },
   "outputs": [],
   "source": [
    "from sklearn.preprocessing import LabelEncoder\n",
    "\n",
    "le = LabelEncoder()\n"
   ]
  },
  {
   "cell_type": "code",
   "execution_count": 0,
   "metadata": {
    "colab": {},
    "colab_type": "code",
    "id": "DFQ1LaTam2bS"
   },
   "outputs": [],
   "source": [
    "\n",
    "df_tr_up['X0'] = le.fit_transform(df_tr_up.X0)\n",
    "\n",
    "df_tr_up['X1'] = le.fit_transform(df_tr_up.X1)\n",
    "\n",
    "df_tr_up['X2'] = le.fit_transform(df_tr_up.X2)\n",
    "\n",
    "df_tr_up['X3'] = le.fit_transform(df_tr_up.X3)\n",
    "\n",
    "df_tr_up['X4'] = le.fit_transform(df_tr_up.X4)\n",
    "\n",
    "df_tr_up['X5'] = le.fit_transform(df_tr_up.X5)\n",
    "\n",
    "df_tr_up['X6'] = le.fit_transform(df_tr_up.X6)\n",
    "\n",
    "df_tr_up['X8'] = le.fit_transform(df_tr_up.X8)\n"
   ]
  },
  {
   "cell_type": "code",
   "execution_count": 0,
   "metadata": {
    "colab": {},
    "colab_type": "code",
    "id": "IM2KwNvpguPx"
   },
   "outputs": [],
   "source": [
    "# df_tr_up.to_csv('drive/My Drive/Mercedes Benz/train_df.csv', index = False)"
   ]
  },
  {
   "cell_type": "code",
   "execution_count": 750,
   "metadata": {
    "colab": {
     "base_uri": "https://localhost:8080/",
     "height": 102
    },
    "colab_type": "code",
    "executionInfo": {
     "elapsed": 67364,
     "status": "ok",
     "timestamp": 1567020456134,
     "user": {
      "displayName": "sandeep panchal",
      "photoUrl": "https://lh3.googleusercontent.com/a-/AAuE7mCDqp8ZcyRAywNG1QL_TT0dbqm_TRCL6CyGzR511w=s64",
      "userId": "16028125481769875260"
     },
     "user_tz": -330
    },
    "id": "LP5ipTDx2G8C",
    "outputId": "1264c3f8-8188-4fcc-b11e-44a974d8a1e3"
   },
   "outputs": [
    {
     "name": "stdout",
     "output_type": "stream",
     "text": [
      "\n",
      "-> Shape of x: (4208, 364)\n",
      "\n",
      "-> Shape of y_train: (4208,) \n",
      "\n"
     ]
    }
   ],
   "source": [
    "print(\"\\n-> Shape of x:\", x.shape)\n",
    "print(\"\\n-> Shape of y_train:\", y.shape, '\\n')"
   ]
  },
  {
   "cell_type": "markdown",
   "metadata": {
    "colab": {},
    "colab_type": "code",
    "id": "4tJuikyN3R2X"
   },
   "source": [
    "## Test set"
   ]
  },
  {
   "cell_type": "code",
   "execution_count": 0,
   "metadata": {
    "colab": {},
    "colab_type": "code",
    "id": "M0ahBWX-phMC"
   },
   "outputs": [],
   "source": [
    "dt = pd.read_csv('drive/My Drive/Mercedes Benz/test.csv')"
   ]
  },
  {
   "cell_type": "code",
   "execution_count": 753,
   "metadata": {
    "colab": {
     "base_uri": "https://localhost:8080/",
     "height": 255
    },
    "colab_type": "code",
    "executionInfo": {
     "elapsed": 67312,
     "status": "ok",
     "timestamp": 1567020456136,
     "user": {
      "displayName": "sandeep panchal",
      "photoUrl": "https://lh3.googleusercontent.com/a-/AAuE7mCDqp8ZcyRAywNG1QL_TT0dbqm_TRCL6CyGzR511w=s64",
      "userId": "16028125481769875260"
     },
     "user_tz": -330
    },
    "id": "MLIdGVqsphME",
    "outputId": "e4bdb847-4a57-469b-8ddf-db66936ffca6"
   },
   "outputs": [
    {
     "name": "stdout",
     "output_type": "stream",
     "text": [
      "\n",
      "-> Shape of train dataframe: (4209, 377) \n",
      "\n",
      "-> Number of rows in train dataframe: 4209 \n",
      "\n",
      "-> Number of columns in train dataframe: 377 \n",
      "\n",
      "-> Column names of dataframe\n",
      "\n",
      " Index(['ID', 'X0', 'X1', 'X2', 'X3', 'X4', 'X5', 'X6', 'X8', 'X10',\n",
      "       ...\n",
      "       'X375', 'X376', 'X377', 'X378', 'X379', 'X380', 'X382', 'X383', 'X384',\n",
      "       'X385'],\n",
      "      dtype='object', length=377)\n"
     ]
    }
   ],
   "source": [
    "print()\n",
    "print(\"-> Shape of train dataframe:\", dt.shape, '\\n')\n",
    "print(\"-> Number of rows in train dataframe:\", dt.shape[0], '\\n')\n",
    "print(\"-> Number of columns in train dataframe:\", dt.shape[1], '\\n')\n",
    "print(\"-> Column names of dataframe\\n\\n\", dt.columns)"
   ]
  },
  {
   "cell_type": "code",
   "execution_count": 754,
   "metadata": {
    "colab": {
     "base_uri": "https://localhost:8080/",
     "height": 439
    },
    "colab_type": "code",
    "executionInfo": {
     "elapsed": 70309,
     "status": "ok",
     "timestamp": 1567020459156,
     "user": {
      "displayName": "sandeep panchal",
      "photoUrl": "https://lh3.googleusercontent.com/a-/AAuE7mCDqp8ZcyRAywNG1QL_TT0dbqm_TRCL6CyGzR511w=s64",
      "userId": "16028125481769875260"
     },
     "user_tz": -330
    },
    "id": "v2-n_TS_phMM",
    "outputId": "7c64bd45-c530-4d00-c2b0-86985ff129da"
   },
   "outputs": [
    {
     "name": "stdout",
     "output_type": "stream",
     "text": [
      "\n",
      "-> Checking if there are any null values in the dataset.\n",
      "\n",
      "-> There are no null values in the dataset.\n",
      "\n",
      "-> Heatmap to visually view null values if any.\n",
      "\n",
      "************************************************** \n",
      "\n"
     ]
    },
    {
     "data": {
      "image/png": "[encoded data removed]",
      "text/plain": [
       "<Figure size 432x288 with 2 Axes>"
      ]
     },
     "metadata": {
      "tags": []
     },
     "output_type": "display_data"
    }
   ],
   "source": [
    "print(\"\\n-> Checking if there are any null values in the dataset.\\n\")\n",
    "\n",
    "if dt.isnull().values.any() == False:\n",
    "    print(\"-> There are no null values in the dataset.\\n\")\n",
    "    print(\"-> Heatmap to visually view null values if any.\\n\")\n",
    "    print(\"*\"*50, '\\n')\n",
    "    sns.heatmap(dt.isnull(), cmap = 'viridis')\n",
    "    \n",
    "else:\n",
    "    print(\"-> There are null values in the dataset...\\n\")\n",
    "    print(\"*\"*50, '\\n')\n",
    "    sns.heatmap(dt.isnull(), cmap = 'viridis')"
   ]
  },
  {
   "cell_type": "markdown",
   "metadata": {
    "colab": {},
    "colab_type": "code",
    "id": "a8naDs8xBNb2"
   },
   "source": [
    "#### Features with constant value 0 or 1\n",
    "- ___We will remove features with constant value 0 or 1.___"
   ]
  },
  {
   "cell_type": "code",
   "execution_count": 0,
   "metadata": {
    "colab": {},
    "colab_type": "code",
    "id": "UNbysEbXBNvo"
   },
   "outputs": [],
   "source": [
    "# Not considering columns of categorical type\n",
    "\n",
    "dt_cor_type = dt.select_dtypes(exclude = [object])\n",
    "\n",
    "con_val_t = []\n",
    "\n",
    "for i in range(len(dt_cor_type.columns)):\n",
    "    j = dt_cor_type.columns[i]\n",
    "    \n",
    "    # Constant value 0\n",
    "    if dt_cor_type[j].max() == 0 and dt_cor_type[j].min() == 0:\n",
    "        con_val_t.append(dt_cor_type.columns[i])\n",
    "    \n",
    "    # Constant value 1\n",
    "    if dt_cor_type[j].max() == 1 and dt_cor_type[j].min() == 1:\n",
    "        con_val_t.append(dt_cor_type.columns[i])"
   ]
  },
  {
   "cell_type": "code",
   "execution_count": 757,
   "metadata": {
    "colab": {
     "base_uri": "https://localhost:8080/",
     "height": 102
    },
    "colab_type": "code",
    "executionInfo": {
     "elapsed": 70268,
     "status": "ok",
     "timestamp": 1567020459164,
     "user": {
      "displayName": "sandeep panchal",
      "photoUrl": "https://lh3.googleusercontent.com/a-/AAuE7mCDqp8ZcyRAywNG1QL_TT0dbqm_TRCL6CyGzR511w=s64",
      "userId": "16028125481769875260"
     },
     "user_tz": -330
    },
    "id": "OfhGSKyIBRDt",
    "outputId": "4bc03724-78c0-423f-b69f-9c7b9e14d8f7"
   },
   "outputs": [
    {
     "name": "stdout",
     "output_type": "stream",
     "text": [
      "\n",
      "-> Number of features with constant value 0: 5 \n",
      "\n",
      "-> Number of features which should not be considered for analysis: 5 \n",
      "\n"
     ]
    }
   ],
   "source": [
    "print(\"\\n-> Number of features with constant value 0:\", len(con_val_t), '\\n')\n",
    "print(\"-> Number of features which should not be considered for analysis:\", len(con_val_t), '\\n')"
   ]
  },
  {
   "cell_type": "code",
   "execution_count": 758,
   "metadata": {
    "colab": {
     "base_uri": "https://localhost:8080/",
     "height": 136
    },
    "colab_type": "code",
    "executionInfo": {
     "elapsed": 70247,
     "status": "ok",
     "timestamp": 1567020459165,
     "user": {
      "displayName": "sandeep panchal",
      "photoUrl": "https://lh3.googleusercontent.com/a-/AAuE7mCDqp8ZcyRAywNG1QL_TT0dbqm_TRCL6CyGzR511w=s64",
      "userId": "16028125481769875260"
     },
     "user_tz": -330
    },
    "id": "aRbLk5X0BoM8",
    "outputId": "e33f9b4f-b776-4ba1-a0db-6d4be2950f6b"
   },
   "outputs": [
    {
     "name": "stdout",
     "output_type": "stream",
     "text": [
      "\n",
      "-> Removing 5 features which has constant value 0 or 1.\n",
      "\n",
      "-> Number of columns in train dataframe before removing features: 377 \n",
      "\n",
      "-> Number of columns in train dataframe after removing features with constant value 0 or 1: 365 \n",
      "\n"
     ]
    }
   ],
   "source": [
    "print(\"\\n-> Removing\", len(con_val_t), \"features which has constant value 0 or 1.\\n\")\n",
    "print(\"-> Number of columns in train dataframe before removing features:\", dt.shape[1], '\\n')\n",
    "\n",
    "dt_up = dt.drop(con_val, axis = 1)\n",
    "\n",
    "print(\"-> Number of columns in train dataframe after removing features with constant value 0 or 1:\", dt_up.shape[1], '\\n')"
   ]
  },
  {
   "cell_type": "code",
   "execution_count": 759,
   "metadata": {
    "colab": {
     "base_uri": "https://localhost:8080/",
     "height": 68
    },
    "colab_type": "code",
    "executionInfo": {
     "elapsed": 70228,
     "status": "ok",
     "timestamp": 1567020459167,
     "user": {
      "displayName": "sandeep panchal",
      "photoUrl": "https://lh3.googleusercontent.com/a-/AAuE7mCDqp8ZcyRAywNG1QL_TT0dbqm_TRCL6CyGzR511w=s64",
      "userId": "16028125481769875260"
     },
     "user_tz": -330
    },
    "id": "4xAsbwMlB18Y",
    "outputId": "8046d0d4-9fb4-4cfb-d6da-ea6835835d24"
   },
   "outputs": [
    {
     "name": "stdout",
     "output_type": "stream",
     "text": [
      "\n",
      "-> Percentage of data reduce to: 96.817 %\n",
      "\n"
     ]
    }
   ],
   "source": [
    "print(\"\\n-> Percentage of data reduce to:\", np.round(((dt_up.shape[1]) / dt.shape[1]) * 100, 3), '%\\n')"
   ]
  },
  {
   "cell_type": "markdown",
   "metadata": {
    "colab": {},
    "colab_type": "code",
    "id": "_uzZDklLphOZ"
   },
   "source": [
    "## Label Encoding"
   ]
  },
  {
   "cell_type": "code",
   "execution_count": 0,
   "metadata": {
    "colab": {},
    "colab_type": "code",
    "id": "fWdiLqNFqKKa"
   },
   "outputs": [],
   "source": [
    "\n",
    "dt_up['X0'] = le.fit_transform(dt_up.X0)\n",
    "\n",
    "dt_up['X1'] = le.fit_transform(dt_up.X1)\n",
    "\n",
    "dt_up['X2'] = le.fit_transform(dt_up.X2)\n",
    "\n",
    "dt_up['X3'] = le.fit_transform(dt_up.X3)\n",
    "\n",
    "dt_up['X4'] = le.fit_transform(dt_up.X4)\n",
    "\n",
    "dt_up['X5'] = le.fit_transform(dt_up.X5)\n",
    "\n",
    "dt_up['X6'] = le.fit_transform(dt_up.X6)\n",
    "\n",
    "dt_up['X8'] = le.fit_transform(dt_up.X8)\n"
   ]
  },
  {
   "cell_type": "code",
   "execution_count": 0,
   "metadata": {
    "colab": {},
    "colab_type": "code",
    "id": "bJg8b81UHOYV"
   },
   "outputs": [],
   "source": [
    "# Keeping the test data 'ID' for future use.\n",
    "\n",
    "test_id = dt_up.ID"
   ]
  },
  {
   "cell_type": "code",
   "execution_count": 0,
   "metadata": {
    "colab": {},
    "colab_type": "code",
    "id": "1fMQrjH1HTPz"
   },
   "outputs": [],
   "source": [
    "# Dropping ID from test data\n",
    "\n",
    "test = dt_up.drop('ID', axis = 1)"
   ]
  },
  {
   "cell_type": "code",
   "execution_count": 0,
   "metadata": {
    "colab": {},
    "colab_type": "code",
    "id": "G_ENH2gdrWr2"
   },
   "outputs": [],
   "source": [
    "# Picking up only those columns which are in train set.\n",
    "\n",
    "test = dt_up[x.columns]"
   ]
  },
  {
   "cell_type": "code",
   "execution_count": 0,
   "metadata": {
    "colab": {},
    "colab_type": "code",
    "id": "9EhDLfyPhaWB"
   },
   "outputs": [],
   "source": [
    "# dt_up.to_csv('drive/My Drive/Mercedes Benz/test_df.csv', index = False)"
   ]
  },
  {
   "cell_type": "markdown",
   "metadata": {},
   "source": [
    "## Algorithm: XGBoost\n",
    "\n",
    "### Hyperparameters:\n",
    "\n",
    " - __n_estimators = 50__\n",
    " - __max_depth = 2__\n",
    " - __learning_rate = 0.1__\n",
    " - __colsample_bytree = 0.5__\n",
    " - __reg_alpha = 2__\n",
    " - __reg_lambda = 4__\n",
    " - __Objective = 'reg:squarederror'__\n",
    " \n",
    "### After lots of hyperparameter tuning, above hyperparameters resulted in better score."
   ]
  },
  {
   "cell_type": "code",
   "execution_count": 0,
   "metadata": {
    "colab": {},
    "colab_type": "code",
    "id": "h2VQ6z0S-fRG"
   },
   "outputs": [],
   "source": [
    "xg = XGBRegressor(n_estimators = 50, max_depth = 2, random_state = 0, objective = 'reg:squarederror',\n",
    "                    learning_rate = 0.1, colsample_bytree = 0.5, reg_alpha = 2, reg_lambda = 4)\n",
    "\n",
    "xg = xg.fit(x, y)\n",
    "xg_pr = xg.predict(test)\n",
    "\n",
    "t = pd.DataFrame()\n",
    "t['ID'] = test_id\n",
    "t['y'] = xg_pr\n",
    "\n",
    "# 27\n",
    "# t.to_csv('drive/My Drive/Mercedes Benz/predict_test_38.csv', index=False)"
   ]
  },
  {
   "cell_type": "code",
   "execution_count": 767,
   "metadata": {
    "colab": {
     "base_uri": "https://localhost:8080/",
     "height": 427
    },
    "colab_type": "code",
    "executionInfo": {
     "elapsed": 70613,
     "status": "ok",
     "timestamp": 1567020459674,
     "user": {
      "displayName": "sandeep panchal",
      "photoUrl": "https://lh3.googleusercontent.com/a-/AAuE7mCDqp8ZcyRAywNG1QL_TT0dbqm_TRCL6CyGzR511w=s64",
      "userId": "16028125481769875260"
     },
     "user_tz": -330
    },
    "id": "_1guP7Rha-S2",
    "outputId": "2a0899bc-ce89-4cad-c5e4-6e6c8ea4fa80"
   },
   "outputs": [
    {
     "name": "stdout",
     "output_type": "stream",
     "text": [
      "\n",
      "-> Head of test data\n",
      "********************* \n",
      "\n"
     ]
    },
    {
     "data": {
      "text/html": [
       "<div>\n",
       "<style scoped>\n",
       "    .dataframe tbody tr th:only-of-type {\n",
       "        vertical-align: middle;\n",
       "    }\n",
       "\n",
       "    .dataframe tbody tr th {\n",
       "        vertical-align: top;\n",
       "    }\n",
       "\n",
       "    .dataframe thead th {\n",
       "        text-align: right;\n",
       "    }\n",
       "</style>\n",
       "<table border=\"1\" class=\"dataframe\">\n",
       "  <thead>\n",
       "    <tr style=\"text-align: right;\">\n",
       "      <th></th>\n",
       "      <th>ID</th>\n",
       "      <th>y</th>\n",
       "    </tr>\n",
       "  </thead>\n",
       "  <tbody>\n",
       "    <tr>\n",
       "      <th>0</th>\n",
       "      <td>1</td>\n",
       "      <td>78.777870</td>\n",
       "    </tr>\n",
       "    <tr>\n",
       "      <th>1</th>\n",
       "      <td>2</td>\n",
       "      <td>94.023293</td>\n",
       "    </tr>\n",
       "    <tr>\n",
       "      <th>2</th>\n",
       "      <td>3</td>\n",
       "      <td>78.894402</td>\n",
       "    </tr>\n",
       "    <tr>\n",
       "      <th>3</th>\n",
       "      <td>4</td>\n",
       "      <td>78.777870</td>\n",
       "    </tr>\n",
       "    <tr>\n",
       "      <th>4</th>\n",
       "      <td>5</td>\n",
       "      <td>110.258301</td>\n",
       "    </tr>\n",
       "    <tr>\n",
       "      <th>5</th>\n",
       "      <td>8</td>\n",
       "      <td>92.524086</td>\n",
       "    </tr>\n",
       "    <tr>\n",
       "      <th>6</th>\n",
       "      <td>10</td>\n",
       "      <td>110.258301</td>\n",
       "    </tr>\n",
       "    <tr>\n",
       "      <th>7</th>\n",
       "      <td>11</td>\n",
       "      <td>94.023293</td>\n",
       "    </tr>\n",
       "    <tr>\n",
       "      <th>8</th>\n",
       "      <td>12</td>\n",
       "      <td>114.201706</td>\n",
       "    </tr>\n",
       "    <tr>\n",
       "      <th>9</th>\n",
       "      <td>14</td>\n",
       "      <td>94.376724</td>\n",
       "    </tr>\n",
       "  </tbody>\n",
       "</table>\n",
       "</div>"
      ],
      "text/plain": [
       "   ID           y\n",
       "0   1   78.777870\n",
       "1   2   94.023293\n",
       "2   3   78.894402\n",
       "3   4   78.777870\n",
       "4   5  110.258301\n",
       "5   8   92.524086\n",
       "6  10  110.258301\n",
       "7  11   94.023293\n",
       "8  12  114.201706\n",
       "9  14   94.376724"
      ]
     },
     "execution_count": 767,
     "metadata": {
      "tags": []
     },
     "output_type": "execute_result"
    }
   ],
   "source": [
    "# Head of 10 from test data\n",
    "\n",
    "print(\"\\n-> Head of test data\")\n",
    "print('*'*21, '\\n')\n",
    "\n",
    "t.head(10)"
   ]
  },
  {
   "cell_type": "code",
   "execution_count": null,
   "metadata": {
    "colab": {},
    "colab_type": "code",
    "id": "M7R7lOPq90IC"
   },
   "outputs": [],
   "source": []
  },
  {
   "cell_type": "code",
   "execution_count": null,
   "metadata": {},
   "outputs": [],
   "source": []
  },
  {
   "cell_type": "markdown",
   "metadata": {
    "colab_type": "text",
    "id": "QoSTE0PNa_Ie"
   },
   "source": [
    "# Feature Engineering"
   ]
  },
  {
   "cell_type": "markdown",
   "metadata": {},
   "source": [
    "## Checking for feature importance before feature engineering\n",
    "\n",
    "###### Source Link: https://machinelearningmastery.com/feature-importance-and-feature-selection-with-xgboost-in-python/\n",
    "\n",
    "##### Source Link for code and feature engineering 2: \n",
    "https://nbviewer.jupyter.org/github/himanshuknegi/mercedes_benz_greener_manufacturing/blob/master/mercedes-benz-greener-manufacturing%20%281%29.ipynb"
   ]
  },
  {
   "cell_type": "code",
   "execution_count": 768,
   "metadata": {
    "colab": {
     "base_uri": "https://localhost:8080/",
     "height": 641
    },
    "colab_type": "code",
    "executionInfo": {
     "elapsed": 105139,
     "status": "ok",
     "timestamp": 1567020494232,
     "user": {
      "displayName": "sandeep panchal",
      "photoUrl": "https://lh3.googleusercontent.com/a-/AAuE7mCDqp8ZcyRAywNG1QL_TT0dbqm_TRCL6CyGzR511w=s64",
      "userId": "16028125481769875260"
     },
     "user_tz": -330
    },
    "id": "NY7BRetGAQPb",
    "outputId": "b61d8a37-c56f-4d78-fa7d-2f68370730be"
   },
   "outputs": [
    {
     "name": "stdout",
     "output_type": "stream",
     "text": [
      "Feature importance using XGBoost\n"
     ]
    },
    {
     "data": {
      "image/png": "[encoded data removed]",
      "text/plain": [
       "<Figure size 720x720 with 1 Axes>"
      ]
     },
     "metadata": {
      "tags": []
     },
     "output_type": "display_data"
    }
   ],
   "source": [
    "from xgboost import plot_importance\n",
    "import matplotlib.pyplot as plt\n",
    "%matplotlib inline\n",
    "import xgboost as xgb\n",
    "\n",
    "def r2_sc(preds, final):\n",
    "    labels = dtrain.get_label()\n",
    "    return 'r2', r2_score(labels, preds)\n",
    "\n",
    "xgb_params = {\n",
    "    'n_trees': 500, \n",
    "    'eta': 0.005,\n",
    "    'max_depth': 3,\n",
    "    'subsample': 0.05,\n",
    "    'objective': 'reg:squarederror',\n",
    "    'eval_metric': 'rmse',\n",
    "    'base_score': np.mean(y_train)}\n",
    "\n",
    "final = xgb.DMatrix(x, y, feature_names = x.columns.values)\n",
    "model = xgb.train(dict(xgb_params), final, feval = r2_sc, num_boost_round = 1500, maximize=True)\n",
    "\n",
    "fig, ax = plt.subplots(figsize=(10,10))\n",
    "xgb.plot_importance(model, max_num_features = 50, height = 0.8, ax = ax,color = 'coral')\n",
    "print(\"Feature importance using XGBoost\")\n",
    "plt.show()"
   ]
  },
  {
   "cell_type": "markdown",
   "metadata": {},
   "source": [
    "# Observation:\n",
    "    \n",
    " - __Among categorical features, X0 is the most important feature with feature important value of 825__\n",
    " - __Among numerical features, X314, X118, X315 are the most important features with feature important value of 260, 198 and 172 respectively.__"
   ]
  },
  {
   "cell_type": "markdown",
   "metadata": {
    "colab": {},
    "colab_type": "code",
    "id": "C1m8xbnhSGR_"
   },
   "source": [
    "# Train Set"
   ]
  },
  {
   "cell_type": "markdown",
   "metadata": {},
   "source": [
    "##### Assigning independent variable to x_f and dependent variable to y_f"
   ]
  },
  {
   "cell_type": "code",
   "execution_count": 0,
   "metadata": {
    "colab": {},
    "colab_type": "code",
    "id": "ZMLheZ1Jk-Wq"
   },
   "outputs": [],
   "source": [
    "# x_f = pd.read_csv('drive/My Drive/Mercedes Benz/train_df.csv')\n",
    "\n",
    "x_f = df_tr_up.drop(['ID','target'], axis = 1)\n",
    "y_f = df_tr_up.target"
   ]
  },
  {
   "cell_type": "markdown",
   "metadata": {},
   "source": [
    "### Feature Engineering - 1:\n",
    "\n",
    " - __We will add all the categorical features (X0, X1, X2, X3, X4, X5, X6, X8) and create a new feature 'X_add'__\n",
    " \n",
    "### This is trail and error method"
   ]
  },
  {
   "cell_type": "code",
   "execution_count": 0,
   "metadata": {
    "colab": {},
    "colab_type": "code",
    "id": "Pr7apC4HRkS5"
   },
   "outputs": [],
   "source": [
    "num_l = list(set(x_f.columns) - set(['X0', 'X1', 'X2', 'X3', 'X4', 'X5', 'X6', 'X8']))\n",
    "\n",
    "num_df = x_f[num_l]\n",
    "\n",
    "x_f['X_add'] = num_df.sum(axis = 1)"
   ]
  },
  {
   "cell_type": "markdown",
   "metadata": {},
   "source": [
    "### Feature Engineering - 2:\n",
    "\n",
    "- __We will add 'X314' & 'X315' and create a new column 'X314_X315'__\n",
    "- __We will add 'X314' & 'X118' and create a new column 'X314_X118'__\n",
    "- __We will add 'X314', 'X315' & 'X118' and create a new column 'X314_X315_X118'__"
   ]
  },
  {
   "cell_type": "code",
   "execution_count": 0,
   "metadata": {
    "colab": {},
    "colab_type": "code",
    "id": "WV1B1vactrL5"
   },
   "outputs": [],
   "source": [
    "# Test Set\n",
    "\n",
    "# Adding X314 and X315\n",
    "x_f['X314_X315'] = x_f.apply(lambda c: c['X314'] + c['X315'], axis = 1)\n",
    "\n",
    "# Adding X314 and X118\n",
    "x_f['X314_X118'] = x_f.apply(lambda c: c['X314'] + c['X118'], axis = 1)\n",
    "\n",
    "# Adding X314, X315 and X118\n",
    "x_f['X314_X315_X118'] = x_f.apply(lambda c: c['X314'] + c['X315'] + c['X118'] , axis = 1)\n"
   ]
  },
  {
   "cell_type": "markdown",
   "metadata": {},
   "source": [
    "# Test set"
   ]
  },
  {
   "cell_type": "code",
   "execution_count": 0,
   "metadata": {
    "colab": {},
    "colab_type": "code",
    "id": "KnCjQj_xHNYf"
   },
   "outputs": [],
   "source": [
    "# test = pd.read_csv('drive/My Drive/Mercedes Benz/test_df.csv')\n",
    "\n",
    "test_f = test"
   ]
  },
  {
   "cell_type": "markdown",
   "metadata": {},
   "source": [
    "### Feature Engineering - 1:\n",
    "\n",
    " - __We will add all the categorical features (X0, X1, X2, X3, X4, X5, X6, X8) and create a new feature 'X_add'__"
   ]
  },
  {
   "cell_type": "code",
   "execution_count": 0,
   "metadata": {
    "colab": {},
    "colab_type": "code",
    "id": "ue-mxdb-Ubag"
   },
   "outputs": [],
   "source": [
    "num_l_te = list(set(test_f.columns) - set(['X0', 'X1', 'X2', 'X3', 'X4', 'X5', 'X6', 'X8']))\n",
    "\n",
    "num_df_te = test_f[num_l_te]\n",
    "\n",
    "test_f['X_add'] = num_df_te.sum(axis = 1)"
   ]
  },
  {
   "cell_type": "markdown",
   "metadata": {},
   "source": [
    "### Feature Engineering - 2:\n",
    "\n",
    "- __We will add 'X314' & 'X315' and create a new column 'X314_X315'__\n",
    "- __We will add 'X314' & 'X118' and create a new column 'X314_X118'__\n",
    "- __We will add 'X314', 'X315' & 'X118' and create a new column 'X314_X315_X118'__"
   ]
  },
  {
   "cell_type": "code",
   "execution_count": 0,
   "metadata": {
    "colab": {},
    "colab_type": "code",
    "id": "T2uIzjkmelIS"
   },
   "outputs": [],
   "source": [
    "# Test Set\n",
    "\n",
    "# Adding X314 and X315\n",
    "test_f['X314_X315'] = test_f.apply(lambda c: c['X314'] + c['X315'], axis = 1)\n",
    "\n",
    "# Adding X314 and X118\n",
    "test_f['X314_X118'] = test_f.apply(lambda c: c['X314'] + c['X118'], axis = 1)\n",
    "\n",
    "# Adding X314, X315 and X118\n",
    "test_f['X314_X315_X118'] = test_f.apply(lambda c: c['X314'] + c['X315'] + c['X118'] , axis = 1)\n"
   ]
  },
  {
   "cell_type": "code",
   "execution_count": 792,
   "metadata": {
    "colab": {
     "base_uri": "https://localhost:8080/",
     "height": 153
    },
    "colab_type": "code",
    "executionInfo": {
     "elapsed": 811,
     "status": "ok",
     "timestamp": 1567020790413,
     "user": {
      "displayName": "sandeep panchal",
      "photoUrl": "https://lh3.googleusercontent.com/a-/AAuE7mCDqp8ZcyRAywNG1QL_TT0dbqm_TRCL6CyGzR511w=s64",
      "userId": "16028125481769875260"
     },
     "user_tz": -330
    },
    "id": "AE4HfdY5i1Q-",
    "outputId": "2d610a24-c566-44ff-f48e-d5bcce8596f0"
   },
   "outputs": [
    {
     "name": "stdout",
     "output_type": "stream",
     "text": [
      "\n",
      "-> Shape of train data before feature engineering: (4208, 364)\n",
      "-> Shape of test data before feature engineering: (4209, 369) \n",
      "\n",
      "\n",
      "-> Shape of train data after feature engineering: (4208, 368)\n",
      "-> Shape of test data after feature engineering:: (4209, 369) \n",
      "\n"
     ]
    }
   ],
   "source": [
    "# Shape before feature engineering\n",
    "print(\"\\n-> Shape of train data before feature engineering:\", x.shape)\n",
    "print(\"-> Shape of test data before feature engineering:\", test.shape, '\\n')\n",
    "\n",
    "\n",
    "# Shape after feature engineering\n",
    "print(\"\\n-> Shape of train data after feature engineering:\", x_f.shape)\n",
    "print(\"-> Shape of test data after feature engineering::\", test_f.shape, '\\n')"
   ]
  },
  {
   "cell_type": "markdown",
   "metadata": {},
   "source": [
    "##### Considering only train columns"
   ]
  },
  {
   "cell_type": "code",
   "execution_count": 0,
   "metadata": {
    "colab": {},
    "colab_type": "code",
    "id": "wAmCJUhNuJSA"
   },
   "outputs": [],
   "source": [
    "test_fe = test_f[x_f.columns] "
   ]
  },
  {
   "cell_type": "code",
   "execution_count": 797,
   "metadata": {
    "colab": {
     "base_uri": "https://localhost:8080/",
     "height": 85
    },
    "colab_type": "code",
    "executionInfo": {
     "elapsed": 1534,
     "status": "ok",
     "timestamp": 1567020860271,
     "user": {
      "displayName": "sandeep panchal",
      "photoUrl": "https://lh3.googleusercontent.com/a-/AAuE7mCDqp8ZcyRAywNG1QL_TT0dbqm_TRCL6CyGzR511w=s64",
      "userId": "16028125481769875260"
     },
     "user_tz": -330
    },
    "id": "bqH1jBaKk-hY",
    "outputId": "cf19a01a-6ad5-4ad2-f308-042d650865da"
   },
   "outputs": [
    {
     "name": "stdout",
     "output_type": "stream",
     "text": [
      "\n",
      "-> Shape of x_f: (4208, 368)\n",
      "-> Shape of test_fe data: (4209, 368) \n",
      "\n"
     ]
    }
   ],
   "source": [
    "# Shape before feature engineering\n",
    "print(\"\\n-> Shape of x_f:\", x_f.shape)\n",
    "print(\"-> Shape of test_fe data:\", test_fe.shape, '\\n')"
   ]
  },
  {
   "cell_type": "markdown",
   "metadata": {},
   "source": [
    "## Checking for feature importance after feature engineering\n",
    "\n",
    "Source link: https://machinelearningmastery.com/feature-importance-and-feature-selection-with-xgboost-in-python/"
   ]
  },
  {
   "cell_type": "code",
   "execution_count": 798,
   "metadata": {
    "colab": {
     "base_uri": "https://localhost:8080/",
     "height": 641
    },
    "colab_type": "code",
    "executionInfo": {
     "elapsed": 35638,
     "status": "ok",
     "timestamp": 1567020901962,
     "user": {
      "displayName": "sandeep panchal",
      "photoUrl": "https://lh3.googleusercontent.com/a-/AAuE7mCDqp8ZcyRAywNG1QL_TT0dbqm_TRCL6CyGzR511w=s64",
      "userId": "16028125481769875260"
     },
     "user_tz": -330
    },
    "id": "WjFgI18UWUdX",
    "outputId": "b46ba0c8-7ae1-4793-b4db-99b69cc05a6d"
   },
   "outputs": [
    {
     "name": "stdout",
     "output_type": "stream",
     "text": [
      "Feature importance using XGBoost\n"
     ]
    },
    {
     "data": {
      "image/png": "[encoded data removed]",
      "text/plain": [
       "<Figure size 720x720 with 1 Axes>"
      ]
     },
     "metadata": {
      "tags": []
     },
     "output_type": "display_data"
    }
   ],
   "source": [
    "from xgboost import plot_importance\n",
    "import matplotlib.pyplot as plt\n",
    "%matplotlib inline\n",
    "import xgboost as xgb\n",
    "\n",
    "def r2_sc(preds, final_f):\n",
    "    labels = dtrain.get_label()\n",
    "    return 'r2', r2_score(labels, preds)\n",
    "\n",
    "xgb_params = {\n",
    "    'n_trees': 500, \n",
    "    'eta': 0.005,\n",
    "    'max_depth': 3,\n",
    "    'subsample': 0.05,\n",
    "    'objective': 'reg:squarederror',\n",
    "    'eval_metric': 'rmse',\n",
    "    'base_score': np.mean(y_f)}\n",
    "\n",
    "final_f = xgb.DMatrix(x_f, y_f, feature_names = x_f.columns.values)\n",
    "model_f = xgb.train(dict(xgb_params), final_f, feval = r2_sc, num_boost_round = 1500, maximize=True)\n",
    "\n",
    "fig, ax = plt.subplots(figsize=(10,10))\n",
    "xgb.plot_importance(model_f, max_num_features = 50, height = 0.8, ax = ax,color = 'coral')\n",
    "print(\"Feature importance using XGBoost\")\n",
    "plt.show()"
   ]
  },
  {
   "cell_type": "markdown",
   "metadata": {},
   "source": [
    "# Observation:\n",
    "    \n",
    " - __'X_add' feature is showing up in top 5 important features.__\n",
    " - __'X_314_X315', 'X_314_X118', 'X314_X315_X118' features are showing up in top 15 features.__\n",
    "    \n",
    "### We can see from the above graph that added 4 extra features from the provided data is showing up in top 15 features. This will certainly improve our model r2 score."
   ]
  },
  {
   "cell_type": "markdown",
   "metadata": {},
   "source": [
    "## Algorithm: XGBoost\n",
    "\n",
    "### Hyperparameters:\n",
    "\n",
    " - __n_estimators = 61__\n",
    " - __max_depth = 4__\n",
    " - __learning_rate = 0.1__\n",
    " - __colsample_bytree = 0.708__\n",
    " - __reg_alpha = 2__\n",
    " - __reg_lambda = 4__\n",
    " - __Objective = 'reg:squarederror'__\n",
    " \n",
    "### After lots of hyperparameter tuning, above hyperparameters resulted in better score."
   ]
  },
  {
   "cell_type": "code",
   "execution_count": 0,
   "metadata": {
    "colab": {},
    "colab_type": "code",
    "id": "hqVvFaphuJz-"
   },
   "outputs": [],
   "source": [
    "xg_f = XGBRegressor(n_estimators = 61, max_depth = 4,\n",
    "                    random_state = 0, learning_rate = 0.1,\n",
    "                    objective =  'reg:squarederror',\n",
    "                    colsample_bytree = 0.708,\n",
    "                    reg_alpha = 2, reg_lambda = 4)\n",
    "\n",
    "xg_f = xg_f.fit(x_f, y_f)\n",
    "xg_pr_f = xg_f.predict(test_fe)\n",
    "\n",
    "t_f = pd.DataFrame()\n",
    "t_f['ID'] = test_id\n",
    "t_f['y'] = xg_pr_f\n",
    "\n",
    "# 124\n",
    "# t_f.to_csv('drive/My Drive/Mercedes Benz/predict_test_132.csv', index=False)"
   ]
  },
  {
   "cell_type": "code",
   "execution_count": 800,
   "metadata": {
    "colab": {
     "base_uri": "https://localhost:8080/",
     "height": 427
    },
    "colab_type": "code",
    "executionInfo": {
     "elapsed": 35831,
     "status": "ok",
     "timestamp": 1567020903902,
     "user": {
      "displayName": "sandeep panchal",
      "photoUrl": "https://lh3.googleusercontent.com/a-/AAuE7mCDqp8ZcyRAywNG1QL_TT0dbqm_TRCL6CyGzR511w=s64",
      "userId": "16028125481769875260"
     },
     "user_tz": -330
    },
    "id": "b5NOGMiz5XrI",
    "outputId": "9ca4d10b-5dab-4b61-8b97-8966ecd7c44b"
   },
   "outputs": [
    {
     "name": "stdout",
     "output_type": "stream",
     "text": [
      "\n",
      "-> Head of test data\n",
      "********************* \n",
      "\n"
     ]
    },
    {
     "data": {
      "text/html": [
       "<div>\n",
       "<style scoped>\n",
       "    .dataframe tbody tr th:only-of-type {\n",
       "        vertical-align: middle;\n",
       "    }\n",
       "\n",
       "    .dataframe tbody tr th {\n",
       "        vertical-align: top;\n",
       "    }\n",
       "\n",
       "    .dataframe thead th {\n",
       "        text-align: right;\n",
       "    }\n",
       "</style>\n",
       "<table border=\"1\" class=\"dataframe\">\n",
       "  <thead>\n",
       "    <tr style=\"text-align: right;\">\n",
       "      <th></th>\n",
       "      <th>ID</th>\n",
       "      <th>y</th>\n",
       "    </tr>\n",
       "  </thead>\n",
       "  <tbody>\n",
       "    <tr>\n",
       "      <th>0</th>\n",
       "      <td>1</td>\n",
       "      <td>80.430557</td>\n",
       "    </tr>\n",
       "    <tr>\n",
       "      <th>1</th>\n",
       "      <td>2</td>\n",
       "      <td>97.388908</td>\n",
       "    </tr>\n",
       "    <tr>\n",
       "      <th>2</th>\n",
       "      <td>3</td>\n",
       "      <td>81.557472</td>\n",
       "    </tr>\n",
       "    <tr>\n",
       "      <th>3</th>\n",
       "      <td>4</td>\n",
       "      <td>76.853920</td>\n",
       "    </tr>\n",
       "    <tr>\n",
       "      <th>4</th>\n",
       "      <td>5</td>\n",
       "      <td>110.834717</td>\n",
       "    </tr>\n",
       "    <tr>\n",
       "      <th>5</th>\n",
       "      <td>8</td>\n",
       "      <td>91.420029</td>\n",
       "    </tr>\n",
       "    <tr>\n",
       "      <th>6</th>\n",
       "      <td>10</td>\n",
       "      <td>110.977165</td>\n",
       "    </tr>\n",
       "    <tr>\n",
       "      <th>7</th>\n",
       "      <td>11</td>\n",
       "      <td>94.524185</td>\n",
       "    </tr>\n",
       "    <tr>\n",
       "      <th>8</th>\n",
       "      <td>12</td>\n",
       "      <td>115.967415</td>\n",
       "    </tr>\n",
       "    <tr>\n",
       "      <th>9</th>\n",
       "      <td>14</td>\n",
       "      <td>94.329880</td>\n",
       "    </tr>\n",
       "  </tbody>\n",
       "</table>\n",
       "</div>"
      ],
      "text/plain": [
       "   ID           y\n",
       "0   1   80.430557\n",
       "1   2   97.388908\n",
       "2   3   81.557472\n",
       "3   4   76.853920\n",
       "4   5  110.834717\n",
       "5   8   91.420029\n",
       "6  10  110.977165\n",
       "7  11   94.524185\n",
       "8  12  115.967415\n",
       "9  14   94.329880"
      ]
     },
     "execution_count": 800,
     "metadata": {
      "tags": []
     },
     "output_type": "execute_result"
    }
   ],
   "source": [
    "# Head of 10 from test data\n",
    "\n",
    "print(\"\\n-> Head of test data\")\n",
    "print('*'*21, '\\n')\n",
    "\n",
    "t_f.head(10)"
   ]
  },
  {
   "cell_type": "code",
   "execution_count": null,
   "metadata": {
    "colab": {},
    "colab_type": "code",
    "id": "zP98hDsBep63"
   },
   "outputs": [],
   "source": []
  },
  {
   "cell_type": "markdown",
   "metadata": {},
   "source": [
    "# Score before feature engineering"
   ]
  },
  {
   "cell_type": "markdown",
   "metadata": {
    "colab": {},
    "colab_type": "code",
    "id": "DLd6Ny0dep-U"
   },
   "source": [
    "![title](Score_0.54213.png)"
   ]
  },
  {
   "cell_type": "markdown",
   "metadata": {},
   "source": [
    "# Score after feature engineering"
   ]
  },
  {
   "cell_type": "markdown",
   "metadata": {},
   "source": [
    "![title](Score_0.55218.png)"
   ]
  },
  {
   "cell_type": "markdown",
   "metadata": {},
   "source": [
    "# Pretty Table"
   ]
  },
  {
   "cell_type": "code",
   "execution_count": 50,
   "metadata": {},
   "outputs": [
    {
     "name": "stdout",
     "output_type": "stream",
     "text": [
      "+------+-----------+---------------------+--------------+-----------+--------------------+-------------------+\n",
      "| S.No | Algorithm | Feature Engineering | n_estimators | max_depth | Private score (r2) | Public score (r2) |\n",
      "+------+-----------+---------------------+--------------+-----------+--------------------+-------------------+\n",
      "|  1   |  XGBoost  |     Not applied     |      50      |     2     |      0.54213       |      0.54214      |\n",
      "|  -   |   -----   |        -----        |    -----     |   -----   |       -----        |       -----       |\n",
      "|  2   |  XGBoost  |       Applied       |      61      |     4     |      0.55218       |      0.55507      |\n",
      "+------+-----------+---------------------+--------------+-----------+--------------------+-------------------+\n"
     ]
    }
   ],
   "source": [
    "from prettytable import PrettyTable\n",
    "\n",
    "a = PrettyTable()\n",
    "\n",
    "a.field_names = [\"S.No\", \"Algorithm\", \"Feature Engineering\", \"n_estimators\", \"max_depth\", \"Private score (r2)\", \"Public score (r2)\"]\n",
    "\n",
    "a.add_row([ (1), \"XGBoost\", \"Not applied\", '50', 2, 0.54213, 0.54214])\n",
    "a.add_row([('-'), '-----','-----','-----','-----','-----', '-----'])\n",
    "a.add_row([ (2), \"XGBoost\", \"Applied\", '61', 4, 0.55218, 0.55507])\n",
    "\n",
    "print(a.get_string(title = \"Summary Table for Logistic Regression\"))\n"
   ]
  },
  {
   "cell_type": "markdown",
   "metadata": {},
   "source": [
    "# Conclusion:\n",
    "\n",
    " - __Before applying feature engineering, priveate score is 0.54213 and public score is 0.54214.__\n",
    " - __After applying feature engineering, private score is 0.54218 and public score is 0.55507.__\n",
    " \n",
    "### Overall conclusion:\n",
    "\n",
    " - __After applying feature engineering, private score is increased by almost 0.01 and public score by 0.013.__"
   ]
  },
  {
   "cell_type": "code",
   "execution_count": null,
   "metadata": {},
   "outputs": [],
   "source": []
  },
  {
   "cell_type": "markdown",
   "metadata": {},
   "source": [
    "# Step-by-step procedure:\n",
    "\n",
    "\n",
    "## Data overview\n",
    "    \n",
    " - __Train and test dataset is imported.__\n",
    " - __Overviewed data like shape and size of the data, number of columns and rows, etc.__\n",
    "\n",
    "\n",
    "## Exploratory Data Analysis:\n",
    "\n",
    "\n",
    " - __Checked for null values with seaborn heatmap.__\n",
    " - __With in-built pandas profiling, checked how variables are correlated to each other, also had a view of mean, median, null values and constant values.__\n",
    " - __Checked for outliers.__\n",
    " - __With boxplot and histogram, analyzed dependent variable like mean, median, quartiles and also outliers.__\n",
    "\n",
    "\n",
    "## Data Preparation:\n",
    "\n",
    "\n",
    " - __Removed features with constant value 0 and 1.__\n",
    " - __Filled null values with approprate values if there are any.__\n",
    " - __Label encoded the categorical features.____\n",
    " - __Assigned independent variables to x and dependent variable to y.__\n",
    " - __Stored test ID for further use.__\n",
    "\n",
    "\n",
    "## Feature Engineering:\n",
    "\n",
    "\n",
    " - __Feature Engineering - 1:__\n",
    " \n",
    "     - __We will add all the categorical features (X0, X1, X2, X3, X4, X5, X6, X8) and create a new feature 'X_add'.__\n",
    "     \n",
    "\n",
    " - __Feature Engineering - 1:__\n",
    " \n",
    "    - __We will add 'X314' & 'X315' and create a new column 'X314_X315'__\n",
    "    - __We will add 'X314' & 'X118' and create a new column 'X314_X118'__\n",
    "    - __We will add 'X314', 'X315' & 'X118' and create a new column 'X314_X315_X118'__\n",
    "    \n",
    "## Machine Learning Model with XGBoost:\n",
    "\n",
    "\n",
    " - __With below hyperparameters before feature engineering__\n",
    " \n",
    "     - __n_estimators = 50__\n",
    "     - __max_depth = 2__\n",
    "     - __learning_rate = 0.1__\n",
    "     - __colsample_bytree = 0.5__\n",
    "     - __reg_alpha = 2__\n",
    "     - __reg_lambda = 4__\n",
    "     - __Objective = 'reg:squarederror'__\n",
    "     \n",
    "     \n",
    " - __R2 score (Co-efficient of Determination)__\n",
    " \n",
    "     - __Private score: 0.54213__\n",
    "     - __Public score: 0.54214__\n",
    "     \n",
    " \n",
    " - __With below hyperparameters after feature engineering__\n",
    " \n",
    "     - __n_estimators = 61__\n",
    "     - __max_depth = 4__\n",
    "     - __learning_rate = 0.1__\n",
    "     - __colsample_bytree = 0.708__\n",
    "     - __reg_alpha = 2__\n",
    "     - __reg_lambda = 4__\n",
    "     - __Objective = 'reg:squarederror'__\n",
    "\n",
    " \n",
    "- __R2 score (Co-efficient of Determination)__\n",
    " \n",
    "     - __Private score: 0.55218__\n",
    "     - __Public score: 0.55507__\n",
    "     \n",
    "     \n",
    "\n",
    "## Conclusion:\n",
    "\n",
    " - __Before applying feature engineering, priveate score is 0.54213 and public score is 0.54214.__\n",
    " - __After applying feature engineering, private score is 0.54218 and public score is 0.55507.__\n",
    " \n",
    " \n",
    "### Overall conclusion:\n",
    "\n",
    " - __After applying feature engineering, private score is increased by almost 0.01 and public score by 0.013.__"
   ]
  },
  {
   "cell_type": "code",
   "execution_count": null,
   "metadata": {},
   "outputs": [],
   "source": []
  }
 ],
 "metadata": {
  "colab": {
   "collapsed_sections": [
    "3BHamaw9phJs"
   ],
   "machine_shape": "hm",
   "name": "C_Final_0.55218_Mercedes_Benze_Self_Case_Study.ipynb",
   "provenance": [],
   "version": "0.3.2"
  },
  "kernelspec": {
   "display_name": "Python 3",
   "language": "python",
   "name": "python3"
  },
  "language_info": {
   "codemirror_mode": {
    "name": "ipython",
    "version": 3
   },
   "file_extension": ".py",
   "mimetype": "text/x-python",
   "name": "python",
   "nbconvert_exporter": "python",
   "pygments_lexer": "ipython3",
   "version": "3.7.0"
  }
 },
 "nbformat": 4,
 "nbformat_minor": 1
}
